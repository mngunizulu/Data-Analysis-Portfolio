{
 "cells": [
  {
   "cell_type": "markdown",
   "id": "b7c05162",
   "metadata": {},
   "source": [
    "# Time Series Analysis Life Expectancy"
   ]
  },
  {
   "cell_type": "markdown",
   "id": "1eb26bdd",
   "metadata": {},
   "source": [
    "Contents:\n",
    "\n",
    "01. Import Libraries\n",
    "02. Import dataframe\n",
    "03. Reset Index and create subset\n",
    "04. Dicky-Fuller Stationarity Test\n",
    "05. 1st Round Differencing\n",
    "06. 2nd Round Differencing\n",
    "07. Autocorrelation"
   ]
  },
  {
   "cell_type": "markdown",
   "id": "b1d9bf66",
   "metadata": {},
   "source": [
    "# 01. Import Libraries"
   ]
  },
  {
   "cell_type": "code",
   "execution_count": 1,
   "id": "1b83c94d",
   "metadata": {},
   "outputs": [],
   "source": [
    "import quandl\n",
    "import pandas as pd\n",
    "import numpy as np\n",
    "import seaborn as sns\n",
    "import matplotlib\n",
    "import matplotlib.pyplot as plt\n",
    "import os\n",
    "import statsmodels.api as sm\n",
    "from statsmodels.tsa.stattools import adfuller # used for dicky-fuller test\n",
    "from statsmodels.graphics.tsaplots import plot_acf, plot_pacf # tool is used for autocorrelation\n",
    "import warnings\n",
    "warnings.filterwarnings(\"ignore\")\n",
    "plt.style.use('fivethirtyeight')\n",
    "from datetime import datetime # used to create datetime datatype from index"
   ]
  },
  {
   "cell_type": "markdown",
   "id": "1b86761f",
   "metadata": {},
   "source": [
    "# 02. Import dataframe"
   ]
  },
  {
   "cell_type": "code",
   "execution_count": 42,
   "id": "71c2b8eb",
   "metadata": {},
   "outputs": [],
   "source": [
    "# create path to folder\n",
    "path = r\"C:\\Users\\mngun\\OneDrive\\Desktop\\Data Analysis\\Data Immersion\\Achievement 6\\Life Expectancy\""
   ]
  },
  {
   "cell_type": "code",
   "execution_count": 45,
   "id": "fb29bc8d",
   "metadata": {},
   "outputs": [],
   "source": [
    "# import dataframe\n",
    "df_life= pd.read_pickle(os.path.join(path,'02_Data','Prepared Data','df_life_corr.pkl'))"
   ]
  },
  {
   "cell_type": "code",
   "execution_count": 46,
   "id": "7b527d62",
   "metadata": {},
   "outputs": [
    {
     "data": {
      "text/plain": [
       "['Country',\n",
       " 'Year',\n",
       " 'Continent',\n",
       " 'Least Developed',\n",
       " 'life_expect',\n",
       " 'Population',\n",
       " 'CO2_emiss',\n",
       " 'health_spend',\n",
       " 'Electric_consumption',\n",
       " 'forest_area',\n",
       " 'gdp_per_capita',\n",
       " 'internet_usage',\n",
       " 'military_spend',\n",
       " 'open_defecation',\n",
       " 'drinking_water_services',\n",
       " 'adult_obesity',\n",
       " 'beer_consumption',\n",
       " 'Expected Age']"
      ]
     },
     "execution_count": 46,
     "metadata": {},
     "output_type": "execute_result"
    }
   ],
   "source": [
    "# list columns in dataframe\n",
    "df_life.columns.to_list()"
   ]
  },
  {
   "cell_type": "markdown",
   "id": "4b60f587",
   "metadata": {},
   "source": [
    "# 03.  Create subset and Reset Index"
   ]
  },
  {
   "cell_type": "code",
   "execution_count": 77,
   "id": "1be8eb8c",
   "metadata": {},
   "outputs": [],
   "source": [
    "# creating new subset with mean life expectancy per year\n",
    "df_mean_life= pd.DataFrame(df_life.groupby('Year')['life_expect'].mean())"
   ]
  },
  {
   "cell_type": "code",
   "execution_count": 78,
   "id": "d212759b",
   "metadata": {},
   "outputs": [],
   "source": [
    "# create an index\n",
    "df_sub= df_mean_life.reset_index()"
   ]
  },
  {
   "cell_type": "code",
   "execution_count": 79,
   "id": "76416788",
   "metadata": {},
   "outputs": [
    {
     "data": {
      "text/html": [
       "<div>\n",
       "<style scoped>\n",
       "    .dataframe tbody tr th:only-of-type {\n",
       "        vertical-align: middle;\n",
       "    }\n",
       "\n",
       "    .dataframe tbody tr th {\n",
       "        vertical-align: top;\n",
       "    }\n",
       "\n",
       "    .dataframe thead th {\n",
       "        text-align: right;\n",
       "    }\n",
       "</style>\n",
       "<table border=\"1\" class=\"dataframe\">\n",
       "  <thead>\n",
       "    <tr style=\"text-align: right;\">\n",
       "      <th></th>\n",
       "      <th>Year</th>\n",
       "      <th>life_expect</th>\n",
       "    </tr>\n",
       "  </thead>\n",
       "  <tbody>\n",
       "    <tr>\n",
       "      <th>0</th>\n",
       "      <td>2000</td>\n",
       "      <td>68.436453</td>\n",
       "    </tr>\n",
       "    <tr>\n",
       "      <th>1</th>\n",
       "      <td>2001</td>\n",
       "      <td>68.712396</td>\n",
       "    </tr>\n",
       "    <tr>\n",
       "      <th>2</th>\n",
       "      <td>2002</td>\n",
       "      <td>68.938217</td>\n",
       "    </tr>\n",
       "    <tr>\n",
       "      <th>3</th>\n",
       "      <td>2003</td>\n",
       "      <td>69.194394</td>\n",
       "    </tr>\n",
       "    <tr>\n",
       "      <th>4</th>\n",
       "      <td>2004</td>\n",
       "      <td>69.565919</td>\n",
       "    </tr>\n",
       "  </tbody>\n",
       "</table>\n",
       "</div>"
      ],
      "text/plain": [
       "   Year  life_expect\n",
       "0  2000    68.436453\n",
       "1  2001    68.712396\n",
       "2  2002    68.938217\n",
       "3  2003    69.194394\n",
       "4  2004    69.565919"
      ]
     },
     "execution_count": 79,
     "metadata": {},
     "output_type": "execute_result"
    }
   ],
   "source": [
    "df_sub.head()"
   ]
  },
  {
   "cell_type": "code",
   "execution_count": 81,
   "id": "07c80ced",
   "metadata": {},
   "outputs": [
    {
     "data": {
      "text/html": [
       "<div>\n",
       "<style scoped>\n",
       "    .dataframe tbody tr th:only-of-type {\n",
       "        vertical-align: middle;\n",
       "    }\n",
       "\n",
       "    .dataframe tbody tr th {\n",
       "        vertical-align: top;\n",
       "    }\n",
       "\n",
       "    .dataframe thead th {\n",
       "        text-align: right;\n",
       "    }\n",
       "</style>\n",
       "<table border=\"1\" class=\"dataframe\">\n",
       "  <thead>\n",
       "    <tr style=\"text-align: right;\">\n",
       "      <th></th>\n",
       "      <th>life_expect</th>\n",
       "    </tr>\n",
       "    <tr>\n",
       "      <th>year</th>\n",
       "      <th></th>\n",
       "    </tr>\n",
       "  </thead>\n",
       "  <tbody>\n",
       "    <tr>\n",
       "      <th>2000-01-01</th>\n",
       "      <td>68.436453</td>\n",
       "    </tr>\n",
       "    <tr>\n",
       "      <th>2001-01-01</th>\n",
       "      <td>68.712396</td>\n",
       "    </tr>\n",
       "    <tr>\n",
       "      <th>2002-01-01</th>\n",
       "      <td>68.938217</td>\n",
       "    </tr>\n",
       "    <tr>\n",
       "      <th>2003-01-01</th>\n",
       "      <td>69.194394</td>\n",
       "    </tr>\n",
       "    <tr>\n",
       "      <th>2004-01-01</th>\n",
       "      <td>69.565919</td>\n",
       "    </tr>\n",
       "  </tbody>\n",
       "</table>\n",
       "</div>"
      ],
      "text/plain": [
       "            life_expect\n",
       "year                   \n",
       "2000-01-01    68.436453\n",
       "2001-01-01    68.712396\n",
       "2002-01-01    68.938217\n",
       "2003-01-01    69.194394\n",
       "2004-01-01    69.565919"
      ]
     },
     "execution_count": 81,
     "metadata": {},
     "output_type": "execute_result"
    }
   ],
   "source": [
    "# turn year column to datetime dtype\n",
    "df_sub['year'] = pd.to_datetime(df_sub['Year'], format='%Y') \n",
    "# set year column as index\n",
    "df_sub = df_sub.set_index('year') \n",
    "df_sub.drop(['Year'], axis=1, inplace=True) \n",
    "df_sub.head()"
   ]
  },
  {
   "cell_type": "code",
   "execution_count": 85,
   "id": "c9d4014f",
   "metadata": {},
   "outputs": [],
   "source": [
    "# decomposing line chart into its components\n",
    "decomposition = sm.tsa.seasonal_decompose(df_sub, model='additive')"
   ]
  },
  {
   "cell_type": "code",
   "execution_count": 86,
   "id": "cea9f05c",
   "metadata": {},
   "outputs": [
    {
     "data": {
      "image/png": "[encoded data removed]",
      "text/plain": [
       "<Figure size 1800x700 with 4 Axes>"
      ]
     },
     "metadata": {},
     "output_type": "display_data"
    }
   ],
   "source": [
    "# plotting decomposition chart\n",
    "decomposition.plot()\n",
    "plt.show()"
   ]
  },
  {
   "cell_type": "markdown",
   "id": "72e5eaba",
   "metadata": {},
   "source": [
    "There are only yearly periods in this data set, which probably caused the lack of any seasonality component in the decomposition.The overall trend of the average life expectancies is positve. Life expectancies are on the steady rise. Therefore the chart does not exhibit stationarity but it is very smooth."
   ]
  },
  {
   "cell_type": "markdown",
   "id": "cc94c57c",
   "metadata": {},
   "source": [
    "# 04. Dicky-Fuller Stationarity Test"
   ]
  },
  {
   "cell_type": "code",
   "execution_count": 87,
   "id": "535f69c1",
   "metadata": {},
   "outputs": [
    {
     "name": "stdout",
     "output_type": "stream",
     "text": [
      "Dickey-Fuller Stationarity test:\n",
      "Test Statistic                 -2.480540\n",
      "p-value                         0.120281\n",
      "Number of Lags Used             5.000000\n",
      "Number of Observations Used    10.000000\n",
      "Critical Value (1%)            -4.331573\n",
      "Critical Value (5%)            -3.232950\n",
      "Critical Value (10%)           -2.748700\n",
      "dtype: float64\n"
     ]
    }
   ],
   "source": [
    "# define the function\n",
    "def dickey_fuller(timeseries): \n",
    "    # Dickey-Fuller test:\n",
    "    print ('Dickey-Fuller Stationarity test:')\n",
    "    test = adfuller(timeseries, autolag='AIC')\n",
    "    result = pd.Series(test[0:4], index=['Test Statistic','p-value','Number of Lags Used','Number of Observations Used'])\n",
    "    for key,value in test[4].items():\n",
    "       result['Critical Value (%s)'%key] = value\n",
    "    print (result)\n",
    "\n",
    "# Apply the test on the time series with previously defined function\n",
    "dickey_fuller(df_sub['life_expect'])"
   ]
  },
  {
   "cell_type": "markdown",
   "id": "0b36bcd0",
   "metadata": {},
   "source": [
    "Null hypothesis: The dataset is not statioanary\n",
    "    \n",
    "The Test statistic is greater than the Critical value at 1,5 or even 10%, and therefore we cannot reject the null hypothesis. The dataset is not stationary. This was to be expected after seeing the upward trend in the decomposition graph."
   ]
  },
  {
   "cell_type": "markdown",
   "id": "49f5a4f7",
   "metadata": {},
   "source": [
    "# 05. 1st round Differencing"
   ]
  },
  {
   "cell_type": "code",
   "execution_count": 88,
   "id": "6225b273",
   "metadata": {},
   "outputs": [],
   "source": [
    "# create new dataframe with differences\n",
    "df_diff = df_sub - df_sub.shift(1)"
   ]
  },
  {
   "cell_type": "code",
   "execution_count": 89,
   "id": "0e13cec5",
   "metadata": {},
   "outputs": [],
   "source": [
    "# drop missing value\n",
    "df_diff.dropna(inplace=True)"
   ]
  },
  {
   "cell_type": "code",
   "execution_count": 90,
   "id": "97e59d22",
   "metadata": {},
   "outputs": [
    {
     "data": {
      "text/html": [
       "<div>\n",
       "<style scoped>\n",
       "    .dataframe tbody tr th:only-of-type {\n",
       "        vertical-align: middle;\n",
       "    }\n",
       "\n",
       "    .dataframe tbody tr th {\n",
       "        vertical-align: top;\n",
       "    }\n",
       "\n",
       "    .dataframe thead th {\n",
       "        text-align: right;\n",
       "    }\n",
       "</style>\n",
       "<table border=\"1\" class=\"dataframe\">\n",
       "  <thead>\n",
       "    <tr style=\"text-align: right;\">\n",
       "      <th></th>\n",
       "      <th>life_expect</th>\n",
       "    </tr>\n",
       "    <tr>\n",
       "      <th>year</th>\n",
       "      <th></th>\n",
       "    </tr>\n",
       "  </thead>\n",
       "  <tbody>\n",
       "    <tr>\n",
       "      <th>2001-01-01</th>\n",
       "      <td>0.275943</td>\n",
       "    </tr>\n",
       "    <tr>\n",
       "      <th>2002-01-01</th>\n",
       "      <td>0.225821</td>\n",
       "    </tr>\n",
       "    <tr>\n",
       "      <th>2003-01-01</th>\n",
       "      <td>0.256177</td>\n",
       "    </tr>\n",
       "    <tr>\n",
       "      <th>2004-01-01</th>\n",
       "      <td>0.371525</td>\n",
       "    </tr>\n",
       "    <tr>\n",
       "      <th>2005-01-01</th>\n",
       "      <td>0.274032</td>\n",
       "    </tr>\n",
       "  </tbody>\n",
       "</table>\n",
       "</div>"
      ],
      "text/plain": [
       "            life_expect\n",
       "year                   \n",
       "2001-01-01     0.275943\n",
       "2002-01-01     0.225821\n",
       "2003-01-01     0.256177\n",
       "2004-01-01     0.371525\n",
       "2005-01-01     0.274032"
      ]
     },
     "execution_count": 90,
     "metadata": {},
     "output_type": "execute_result"
    }
   ],
   "source": [
    "df_diff.head()"
   ]
  },
  {
   "cell_type": "code",
   "execution_count": 91,
   "id": "9a322dd8",
   "metadata": {},
   "outputs": [
    {
     "name": "stdout",
     "output_type": "stream",
     "text": [
      "Dickey-Fuller Stationarity test:\n",
      "Test Statistic                 -1.812171\n",
      "p-value                         0.374436\n",
      "Number of Lags Used             0.000000\n",
      "Number of Observations Used    14.000000\n",
      "Critical Value (1%)            -4.012034\n",
      "Critical Value (5%)            -3.104184\n",
      "Critical Value (10%)           -2.690987\n",
      "dtype: float64\n"
     ]
    }
   ],
   "source": [
    "def dickey_fuller(timeseries): \n",
    "    # Dickey-Fuller test:\n",
    "    print ('Dickey-Fuller Stationarity test:')\n",
    "    test = adfuller(timeseries, autolag='AIC')\n",
    "    result = pd.Series(test[0:4], index=['Test Statistic','p-value','Number of Lags Used','Number of Observations Used'])\n",
    "    for key,value in test[4].items():\n",
    "       result['Critical Value (%s)'%key] = value\n",
    "    print (result)\n",
    "\n",
    "# Apply the test on the time series\n",
    "dickey_fuller(df_diff['life_expect'])"
   ]
  },
  {
   "cell_type": "markdown",
   "id": "053d95c0",
   "metadata": {},
   "source": [
    "After the first round of differencing the Test statistic is still greater than the critical values at even 10%. Terefore we cannot reject the null hypothesis and the data is not stationary."
   ]
  },
  {
   "cell_type": "markdown",
   "id": "45b32e65",
   "metadata": {},
   "source": [
    "# 06. 2nd round differencing"
   ]
  },
  {
   "cell_type": "code",
   "execution_count": 92,
   "id": "f059deb8",
   "metadata": {},
   "outputs": [],
   "source": [
    "# create dataframe with differences\n",
    "df_diff2= df_diff - df_diff.shift(1)"
   ]
  },
  {
   "cell_type": "code",
   "execution_count": 95,
   "id": "81ffad2b",
   "metadata": {},
   "outputs": [],
   "source": [
    "# drop missing values\n",
    "df_diff2.dropna(inplace=True)"
   ]
  },
  {
   "cell_type": "code",
   "execution_count": 96,
   "id": "ea8d45a2",
   "metadata": {},
   "outputs": [
    {
     "data": {
      "text/html": [
       "<div>\n",
       "<style scoped>\n",
       "    .dataframe tbody tr th:only-of-type {\n",
       "        vertical-align: middle;\n",
       "    }\n",
       "\n",
       "    .dataframe tbody tr th {\n",
       "        vertical-align: top;\n",
       "    }\n",
       "\n",
       "    .dataframe thead th {\n",
       "        text-align: right;\n",
       "    }\n",
       "</style>\n",
       "<table border=\"1\" class=\"dataframe\">\n",
       "  <thead>\n",
       "    <tr style=\"text-align: right;\">\n",
       "      <th></th>\n",
       "      <th>life_expect</th>\n",
       "    </tr>\n",
       "    <tr>\n",
       "      <th>year</th>\n",
       "      <th></th>\n",
       "    </tr>\n",
       "  </thead>\n",
       "  <tbody>\n",
       "    <tr>\n",
       "      <th>2002-01-01</th>\n",
       "      <td>-0.050122</td>\n",
       "    </tr>\n",
       "    <tr>\n",
       "      <th>2003-01-01</th>\n",
       "      <td>0.030356</td>\n",
       "    </tr>\n",
       "    <tr>\n",
       "      <th>2004-01-01</th>\n",
       "      <td>0.115348</td>\n",
       "    </tr>\n",
       "    <tr>\n",
       "      <th>2005-01-01</th>\n",
       "      <td>-0.097493</td>\n",
       "    </tr>\n",
       "    <tr>\n",
       "      <th>2006-01-01</th>\n",
       "      <td>0.072758</td>\n",
       "    </tr>\n",
       "  </tbody>\n",
       "</table>\n",
       "</div>"
      ],
      "text/plain": [
       "            life_expect\n",
       "year                   \n",
       "2002-01-01    -0.050122\n",
       "2003-01-01     0.030356\n",
       "2004-01-01     0.115348\n",
       "2005-01-01    -0.097493\n",
       "2006-01-01     0.072758"
      ]
     },
     "execution_count": 96,
     "metadata": {},
     "output_type": "execute_result"
    }
   ],
   "source": [
    "df_diff2.head()"
   ]
  },
  {
   "cell_type": "code",
   "execution_count": 97,
   "id": "2a74c1d5",
   "metadata": {},
   "outputs": [
    {
     "name": "stdout",
     "output_type": "stream",
     "text": [
      "Dickey-Fuller Stationarity test:\n",
      "Test Statistic                 -4.539501\n",
      "p-value                         0.000167\n",
      "Number of Lags Used             0.000000\n",
      "Number of Observations Used    13.000000\n",
      "Critical Value (1%)            -4.068854\n",
      "Critical Value (5%)            -3.127149\n",
      "Critical Value (10%)           -2.701730\n",
      "dtype: float64\n"
     ]
    }
   ],
   "source": [
    "def dickey_fuller(timeseries): \n",
    "    # Dickey-Fuller test:\n",
    "    print ('Dickey-Fuller Stationarity test:')\n",
    "    test = adfuller(timeseries, autolag='AIC')\n",
    "    result = pd.Series(test[0:4], index=['Test Statistic','p-value','Number of Lags Used','Number of Observations Used'])\n",
    "    for key,value in test[4].items():\n",
    "       result['Critical Value (%s)'%key] = value\n",
    "    print (result)\n",
    "\n",
    "# Apply the test on the time series\n",
    "dickey_fuller(df_diff2['life_expect'])"
   ]
  },
  {
   "cell_type": "markdown",
   "id": "84dddfb3",
   "metadata": {},
   "source": [
    "The Test statistic is now smaller than the critical value for 1%. This means we can reject the null hypothesis. The data is now stationary."
   ]
  },
  {
   "cell_type": "markdown",
   "id": "e7803297",
   "metadata": {},
   "source": [
    "# 07. Auto Correlation"
   ]
  },
  {
   "cell_type": "code",
   "execution_count": 98,
   "id": "4620f29c",
   "metadata": {},
   "outputs": [
    {
     "data": {
      "image/png": "[encoded data removed]",
      "text/plain": [
       "<Figure size 1800x700 with 1 Axes>"
      ]
     },
     "metadata": {},
     "output_type": "display_data"
    }
   ],
   "source": [
    "# plot autocorrelation of datapoints in time series\n",
    "plot_acf(df_diff2)\n",
    "plt.show()"
   ]
  },
  {
   "cell_type": "markdown",
   "id": "f7040e67",
   "metadata": {},
   "source": [
    "This test shows autocorrelation within the data poinst. All the staffs except one are within the blue range. This means that the data has achieved stationarity. "
   ]
  }
 ],
 "metadata": {
  "kernelspec": {
   "display_name": "Python 3 (ipykernel)",
   "language": "python",
   "name": "python3"
  },
  "language_info": {
   "codemirror_mode": {
    "name": "ipython",
    "version": 3
   },
   "file_extension": ".py",
   "mimetype": "text/x-python",
   "name": "python",
   "nbconvert_exporter": "python",
   "pygments_lexer": "ipython3",
   "version": "3.11.5"
  }
 },
 "nbformat": 4,
 "nbformat_minor": 5
}
