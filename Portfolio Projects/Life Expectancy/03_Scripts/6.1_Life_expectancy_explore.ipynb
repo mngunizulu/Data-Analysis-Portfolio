{
 "cells": [
  {
   "cell_type": "markdown",
   "id": "576984f4",
   "metadata": {},
   "source": [
    "# Life Expectancy Worldbank"
   ]
  },
  {
   "cell_type": "markdown",
   "id": "0ec67a41",
   "metadata": {},
   "source": [
    "Contents\n",
    "1. Importing Libraries\n",
    "2. Import Dataframes\n",
    "3. Exploring the Dataset\n",
    "4. Data Cleaning\n",
    " - 4.1. Renaming columns\n",
    " - 4.2. Missing Values\n",
    "   * 4.2.1 missing values in health_spend\n",
    "   * 4.2.2 missing values in electric_consumption\n",
    "   * 4.2.3 missing values in adult_obesity\n",
    "   * 4.2.4 missing values in beer_consumption\n",
    " - 4.3. Mixed Type Columns\n",
    " - 4.4. Duplicates\n",
    "5. Export Dataframes"
   ]
  },
  {
   "cell_type": "markdown",
   "id": "3ba43eb5",
   "metadata": {},
   "source": [
    "# 01. Importing Libraries"
   ]
  },
  {
   "cell_type": "code",
   "execution_count": 14,
   "id": "e0e492c1",
   "metadata": {},
   "outputs": [],
   "source": [
    "import pandas as pd\n",
    "import numpy as np\n",
    "import os"
   ]
  },
  {
   "cell_type": "markdown",
   "id": "b20bb924",
   "metadata": {},
   "source": [
    "# 02. Import Dataframes"
   ]
  },
  {
   "cell_type": "code",
   "execution_count": 15,
   "id": "4d952005",
   "metadata": {},
   "outputs": [],
   "source": [
    "# create path to folder\n",
    "path = r'C:\\Users\\mngun\\OneDrive\\Desktop\\Data Analysis\\Data Immersion\\Achievement 6\\Life Expectancy'"
   ]
  },
  {
   "cell_type": "code",
   "execution_count": 16,
   "id": "90b24995",
   "metadata": {},
   "outputs": [],
   "source": [
    "# import dataframe\n",
    "df_life = pd.read_csv(os.path.join(path, '02_Data', 'Original Data', 'Life_Expectancy_00_20.csv'),index_col = False)"
   ]
  },
  {
   "cell_type": "code",
   "execution_count": 55,
   "id": "8b6da28b",
   "metadata": {},
   "outputs": [],
   "source": [
    "pd.options.display.max_rows = 500"
   ]
  },
  {
   "cell_type": "markdown",
   "id": "7cb5bb5b",
   "metadata": {},
   "source": [
    "# 03. Exploring the Dataset"
   ]
  },
  {
   "cell_type": "code",
   "execution_count": 17,
   "id": "f56a0973",
   "metadata": {},
   "outputs": [
    {
     "data": {
      "text/plain": [
       "(2469, 17)"
      ]
     },
     "execution_count": 17,
     "metadata": {},
     "output_type": "execute_result"
    }
   ],
   "source": [
    "# checking the length and breadth of the dataframe\n",
    "df_life.shape"
   ]
  },
  {
   "cell_type": "code",
   "execution_count": 18,
   "id": "6fdf2333",
   "metadata": {},
   "outputs": [
    {
     "data": {
      "text/html": [
       "<div>\n",
       "<style scoped>\n",
       "    .dataframe tbody tr th:only-of-type {\n",
       "        vertical-align: middle;\n",
       "    }\n",
       "\n",
       "    .dataframe tbody tr th {\n",
       "        vertical-align: top;\n",
       "    }\n",
       "\n",
       "    .dataframe thead th {\n",
       "        text-align: right;\n",
       "    }\n",
       "</style>\n",
       "<table border=\"1\" class=\"dataframe\">\n",
       "  <thead>\n",
       "    <tr style=\"text-align: right;\">\n",
       "      <th></th>\n",
       "      <th>Country</th>\n",
       "      <th>Year</th>\n",
       "      <th>Continent</th>\n",
       "      <th>Least Developed</th>\n",
       "      <th>Life Expectancy</th>\n",
       "      <th>Population</th>\n",
       "      <th>CO2 emissions</th>\n",
       "      <th>Health expenditure</th>\n",
       "      <th>Electric power consumption</th>\n",
       "      <th>Forest area</th>\n",
       "      <th>GDP per capita</th>\n",
       "      <th>Individuals using the Internet</th>\n",
       "      <th>Military expenditure</th>\n",
       "      <th>People practicing open defecation</th>\n",
       "      <th>People using at least basic drinking water services</th>\n",
       "      <th>Obesity among adults</th>\n",
       "      <th>Beer consumption per capita</th>\n",
       "    </tr>\n",
       "  </thead>\n",
       "  <tbody>\n",
       "    <tr>\n",
       "      <th>0</th>\n",
       "      <td>Albania</td>\n",
       "      <td>2000</td>\n",
       "      <td>Europe</td>\n",
       "      <td>False</td>\n",
       "      <td>73.955</td>\n",
       "      <td>3089027</td>\n",
       "      <td>1.026213</td>\n",
       "      <td>7.233370</td>\n",
       "      <td>1414.703784</td>\n",
       "      <td>28.076642</td>\n",
       "      <td>3860.804627</td>\n",
       "      <td>0.114097</td>\n",
       "      <td>1.246360</td>\n",
       "      <td>0.888853</td>\n",
       "      <td>86.754471</td>\n",
       "      <td>12.8</td>\n",
       "      <td>1.33431</td>\n",
       "    </tr>\n",
       "    <tr>\n",
       "      <th>1</th>\n",
       "      <td>Albania</td>\n",
       "      <td>2001</td>\n",
       "      <td>Europe</td>\n",
       "      <td>False</td>\n",
       "      <td>74.288</td>\n",
       "      <td>3060173</td>\n",
       "      <td>1.055496</td>\n",
       "      <td>7.139524</td>\n",
       "      <td>1449.647413</td>\n",
       "      <td>28.123248</td>\n",
       "      <td>4299.546493</td>\n",
       "      <td>0.325798</td>\n",
       "      <td>1.309291</td>\n",
       "      <td>0.836397</td>\n",
       "      <td>86.904070</td>\n",
       "      <td>13.3</td>\n",
       "      <td>1.48995</td>\n",
       "    </tr>\n",
       "    <tr>\n",
       "      <th>2</th>\n",
       "      <td>Albania</td>\n",
       "      <td>2002</td>\n",
       "      <td>Europe</td>\n",
       "      <td>False</td>\n",
       "      <td>74.579</td>\n",
       "      <td>3051010</td>\n",
       "      <td>1.232379</td>\n",
       "      <td>6.909341</td>\n",
       "      <td>1351.230796</td>\n",
       "      <td>28.169854</td>\n",
       "      <td>4661.402695</td>\n",
       "      <td>0.390081</td>\n",
       "      <td>1.320034</td>\n",
       "      <td>0.781899</td>\n",
       "      <td>87.451635</td>\n",
       "      <td>13.9</td>\n",
       "      <td>1.28697</td>\n",
       "    </tr>\n",
       "    <tr>\n",
       "      <th>3</th>\n",
       "      <td>Albania</td>\n",
       "      <td>2003</td>\n",
       "      <td>Europe</td>\n",
       "      <td>False</td>\n",
       "      <td>74.828</td>\n",
       "      <td>3039616</td>\n",
       "      <td>1.338985</td>\n",
       "      <td>7.063490</td>\n",
       "      <td>1578.165919</td>\n",
       "      <td>28.216460</td>\n",
       "      <td>5000.049363</td>\n",
       "      <td>0.971900</td>\n",
       "      <td>1.336843</td>\n",
       "      <td>0.728191</td>\n",
       "      <td>87.987194</td>\n",
       "      <td>14.4</td>\n",
       "      <td>1.44830</td>\n",
       "    </tr>\n",
       "    <tr>\n",
       "      <th>4</th>\n",
       "      <td>Albania</td>\n",
       "      <td>2004</td>\n",
       "      <td>Europe</td>\n",
       "      <td>False</td>\n",
       "      <td>75.039</td>\n",
       "      <td>3026939</td>\n",
       "      <td>1.404059</td>\n",
       "      <td>6.773372</td>\n",
       "      <td>1469.264539</td>\n",
       "      <td>28.263066</td>\n",
       "      <td>5427.732662</td>\n",
       "      <td>2.420388</td>\n",
       "      <td>1.381158</td>\n",
       "      <td>0.675281</td>\n",
       "      <td>88.510583</td>\n",
       "      <td>15.0</td>\n",
       "      <td>1.37617</td>\n",
       "    </tr>\n",
       "  </tbody>\n",
       "</table>\n",
       "</div>"
      ],
      "text/plain": [
       "   Country  Year Continent  Least Developed  Life Expectancy  Population  \\\n",
       "0  Albania  2000    Europe            False           73.955     3089027   \n",
       "1  Albania  2001    Europe            False           74.288     3060173   \n",
       "2  Albania  2002    Europe            False           74.579     3051010   \n",
       "3  Albania  2003    Europe            False           74.828     3039616   \n",
       "4  Albania  2004    Europe            False           75.039     3026939   \n",
       "\n",
       "   CO2 emissions  Health expenditure  Electric power consumption  Forest area  \\\n",
       "0       1.026213            7.233370                 1414.703784    28.076642   \n",
       "1       1.055496            7.139524                 1449.647413    28.123248   \n",
       "2       1.232379            6.909341                 1351.230796    28.169854   \n",
       "3       1.338985            7.063490                 1578.165919    28.216460   \n",
       "4       1.404059            6.773372                 1469.264539    28.263066   \n",
       "\n",
       "   GDP per capita  Individuals using the Internet  Military expenditure  \\\n",
       "0     3860.804627                        0.114097              1.246360   \n",
       "1     4299.546493                        0.325798              1.309291   \n",
       "2     4661.402695                        0.390081              1.320034   \n",
       "3     5000.049363                        0.971900              1.336843   \n",
       "4     5427.732662                        2.420388              1.381158   \n",
       "\n",
       "   People practicing open defecation  \\\n",
       "0                           0.888853   \n",
       "1                           0.836397   \n",
       "2                           0.781899   \n",
       "3                           0.728191   \n",
       "4                           0.675281   \n",
       "\n",
       "   People using at least basic drinking water services  Obesity among adults  \\\n",
       "0                                          86.754471                    12.8   \n",
       "1                                          86.904070                    13.3   \n",
       "2                                          87.451635                    13.9   \n",
       "3                                          87.987194                    14.4   \n",
       "4                                          88.510583                    15.0   \n",
       "\n",
       "   Beer consumption per capita  \n",
       "0                      1.33431  \n",
       "1                      1.48995  \n",
       "2                      1.28697  \n",
       "3                      1.44830  \n",
       "4                      1.37617  "
      ]
     },
     "execution_count": 18,
     "metadata": {},
     "output_type": "execute_result"
    }
   ],
   "source": [
    "# checking column headings adn some values\n",
    "df_life.head(4)"
   ]
  },
  {
   "cell_type": "code",
   "execution_count": 19,
   "id": "e65b1274",
   "metadata": {},
   "outputs": [
    {
     "data": {
      "text/html": [
       "<div>\n",
       "<style scoped>\n",
       "    .dataframe tbody tr th:only-of-type {\n",
       "        vertical-align: middle;\n",
       "    }\n",
       "\n",
       "    .dataframe tbody tr th {\n",
       "        vertical-align: top;\n",
       "    }\n",
       "\n",
       "    .dataframe thead th {\n",
       "        text-align: right;\n",
       "    }\n",
       "</style>\n",
       "<table border=\"1\" class=\"dataframe\">\n",
       "  <thead>\n",
       "    <tr style=\"text-align: right;\">\n",
       "      <th></th>\n",
       "      <th>Year</th>\n",
       "      <th>Life Expectancy</th>\n",
       "      <th>Population</th>\n",
       "      <th>CO2 emissions</th>\n",
       "      <th>Health expenditure</th>\n",
       "      <th>Electric power consumption</th>\n",
       "      <th>Forest area</th>\n",
       "      <th>GDP per capita</th>\n",
       "      <th>Individuals using the Internet</th>\n",
       "      <th>Military expenditure</th>\n",
       "      <th>People practicing open defecation</th>\n",
       "      <th>People using at least basic drinking water services</th>\n",
       "      <th>Obesity among adults</th>\n",
       "      <th>Beer consumption per capita</th>\n",
       "    </tr>\n",
       "  </thead>\n",
       "  <tbody>\n",
       "    <tr>\n",
       "      <th>count</th>\n",
       "      <td>2469.000000</td>\n",
       "      <td>2469.000000</td>\n",
       "      <td>2.469000e+03</td>\n",
       "      <td>2469.000000</td>\n",
       "      <td>2460.000000</td>\n",
       "      <td>1904.000000</td>\n",
       "      <td>2469.000000</td>\n",
       "      <td>2469.000000</td>\n",
       "      <td>2469.000000</td>\n",
       "      <td>2469.000000</td>\n",
       "      <td>2469.000000</td>\n",
       "      <td>2469.000000</td>\n",
       "      <td>2017.000000</td>\n",
       "      <td>2352.000000</td>\n",
       "    </tr>\n",
       "    <tr>\n",
       "      <th>mean</th>\n",
       "      <td>2009.902795</td>\n",
       "      <td>71.559010</td>\n",
       "      <td>5.236223e+07</td>\n",
       "      <td>5.272697</td>\n",
       "      <td>6.247636</td>\n",
       "      <td>3795.909462</td>\n",
       "      <td>30.438031</td>\n",
       "      <td>19674.561646</td>\n",
       "      <td>37.061804</td>\n",
       "      <td>2.115813</td>\n",
       "      <td>8.532194</td>\n",
       "      <td>87.385692</td>\n",
       "      <td>16.436143</td>\n",
       "      <td>2.218313</td>\n",
       "    </tr>\n",
       "    <tr>\n",
       "      <th>std</th>\n",
       "      <td>6.026235</td>\n",
       "      <td>8.232460</td>\n",
       "      <td>1.702141e+08</td>\n",
       "      <td>6.019071</td>\n",
       "      <td>2.513734</td>\n",
       "      <td>4546.577231</td>\n",
       "      <td>20.635980</td>\n",
       "      <td>20119.249089</td>\n",
       "      <td>30.623988</td>\n",
       "      <td>2.714528</td>\n",
       "      <td>16.299995</td>\n",
       "      <td>17.896623</td>\n",
       "      <td>8.304198</td>\n",
       "      <td>1.868369</td>\n",
       "    </tr>\n",
       "    <tr>\n",
       "      <th>min</th>\n",
       "      <td>2000.000000</td>\n",
       "      <td>43.065000</td>\n",
       "      <td>3.331660e+05</td>\n",
       "      <td>0.032419</td>\n",
       "      <td>0.410000</td>\n",
       "      <td>22.755823</td>\n",
       "      <td>0.000000</td>\n",
       "      <td>0.000000</td>\n",
       "      <td>0.000000</td>\n",
       "      <td>0.000000</td>\n",
       "      <td>0.000000</td>\n",
       "      <td>0.000000</td>\n",
       "      <td>1.100000</td>\n",
       "      <td>0.000000</td>\n",
       "    </tr>\n",
       "    <tr>\n",
       "      <th>25%</th>\n",
       "      <td>2005.000000</td>\n",
       "      <td>67.841000</td>\n",
       "      <td>4.267341e+06</td>\n",
       "      <td>1.049628</td>\n",
       "      <td>4.266391</td>\n",
       "      <td>605.280403</td>\n",
       "      <td>11.640042</td>\n",
       "      <td>5225.172934</td>\n",
       "      <td>7.500000</td>\n",
       "      <td>1.048368</td>\n",
       "      <td>0.000000</td>\n",
       "      <td>83.381687</td>\n",
       "      <td>8.800000</td>\n",
       "      <td>0.508250</td>\n",
       "    </tr>\n",
       "    <tr>\n",
       "      <th>50%</th>\n",
       "      <td>2010.000000</td>\n",
       "      <td>73.439000</td>\n",
       "      <td>1.082088e+07</td>\n",
       "      <td>3.607441</td>\n",
       "      <td>6.104830</td>\n",
       "      <td>2143.657892</td>\n",
       "      <td>30.977036</td>\n",
       "      <td>12459.317960</td>\n",
       "      <td>30.880000</td>\n",
       "      <td>1.503478</td>\n",
       "      <td>0.498180</td>\n",
       "      <td>95.279568</td>\n",
       "      <td>18.200000</td>\n",
       "      <td>1.880000</td>\n",
       "    </tr>\n",
       "    <tr>\n",
       "      <th>75%</th>\n",
       "      <td>2015.000000</td>\n",
       "      <td>77.602439</td>\n",
       "      <td>3.797475e+07</td>\n",
       "      <td>7.349942</td>\n",
       "      <td>7.983875</td>\n",
       "      <td>5407.221626</td>\n",
       "      <td>45.965302</td>\n",
       "      <td>28821.261720</td>\n",
       "      <td>64.700000</td>\n",
       "      <td>2.349428</td>\n",
       "      <td>8.874331</td>\n",
       "      <td>99.589009</td>\n",
       "      <td>22.500000</td>\n",
       "      <td>3.690503</td>\n",
       "    </tr>\n",
       "    <tr>\n",
       "      <th>max</th>\n",
       "      <td>2020.000000</td>\n",
       "      <td>83.904878</td>\n",
       "      <td>1.411100e+09</td>\n",
       "      <td>50.954034</td>\n",
       "      <td>18.815826</td>\n",
       "      <td>25590.689430</td>\n",
       "      <td>91.978112</td>\n",
       "      <td>141634.703800</td>\n",
       "      <td>99.701504</td>\n",
       "      <td>32.655671</td>\n",
       "      <td>86.799174</td>\n",
       "      <td>100.000005</td>\n",
       "      <td>37.300000</td>\n",
       "      <td>7.877850</td>\n",
       "    </tr>\n",
       "  </tbody>\n",
       "</table>\n",
       "</div>"
      ],
      "text/plain": [
       "              Year  Life Expectancy    Population  CO2 emissions  \\\n",
       "count  2469.000000      2469.000000  2.469000e+03    2469.000000   \n",
       "mean   2009.902795        71.559010  5.236223e+07       5.272697   \n",
       "std       6.026235         8.232460  1.702141e+08       6.019071   \n",
       "min    2000.000000        43.065000  3.331660e+05       0.032419   \n",
       "25%    2005.000000        67.841000  4.267341e+06       1.049628   \n",
       "50%    2010.000000        73.439000  1.082088e+07       3.607441   \n",
       "75%    2015.000000        77.602439  3.797475e+07       7.349942   \n",
       "max    2020.000000        83.904878  1.411100e+09      50.954034   \n",
       "\n",
       "       Health expenditure  Electric power consumption  Forest area  \\\n",
       "count         2460.000000                 1904.000000  2469.000000   \n",
       "mean             6.247636                 3795.909462    30.438031   \n",
       "std              2.513734                 4546.577231    20.635980   \n",
       "min              0.410000                   22.755823     0.000000   \n",
       "25%              4.266391                  605.280403    11.640042   \n",
       "50%              6.104830                 2143.657892    30.977036   \n",
       "75%              7.983875                 5407.221626    45.965302   \n",
       "max             18.815826                25590.689430    91.978112   \n",
       "\n",
       "       GDP per capita  Individuals using the Internet  Military expenditure  \\\n",
       "count     2469.000000                     2469.000000           2469.000000   \n",
       "mean     19674.561646                       37.061804              2.115813   \n",
       "std      20119.249089                       30.623988              2.714528   \n",
       "min          0.000000                        0.000000              0.000000   \n",
       "25%       5225.172934                        7.500000              1.048368   \n",
       "50%      12459.317960                       30.880000              1.503478   \n",
       "75%      28821.261720                       64.700000              2.349428   \n",
       "max     141634.703800                       99.701504             32.655671   \n",
       "\n",
       "       People practicing open defecation  \\\n",
       "count                        2469.000000   \n",
       "mean                            8.532194   \n",
       "std                            16.299995   \n",
       "min                             0.000000   \n",
       "25%                             0.000000   \n",
       "50%                             0.498180   \n",
       "75%                             8.874331   \n",
       "max                            86.799174   \n",
       "\n",
       "       People using at least basic drinking water services  \\\n",
       "count                                        2469.000000     \n",
       "mean                                           87.385692     \n",
       "std                                            17.896623     \n",
       "min                                             0.000000     \n",
       "25%                                            83.381687     \n",
       "50%                                            95.279568     \n",
       "75%                                            99.589009     \n",
       "max                                           100.000005     \n",
       "\n",
       "       Obesity among adults  Beer consumption per capita  \n",
       "count           2017.000000                  2352.000000  \n",
       "mean              16.436143                     2.218313  \n",
       "std                8.304198                     1.868369  \n",
       "min                1.100000                     0.000000  \n",
       "25%                8.800000                     0.508250  \n",
       "50%               18.200000                     1.880000  \n",
       "75%               22.500000                     3.690503  \n",
       "max               37.300000                     7.877850  "
      ]
     },
     "execution_count": 19,
     "metadata": {},
     "output_type": "execute_result"
    }
   ],
   "source": [
    "# retrieving basic statistics of dataframe\n",
    "df_life.describe()"
   ]
  },
  {
   "cell_type": "markdown",
   "id": "5135147b",
   "metadata": {},
   "source": [
    "# 04. Data Cleaning"
   ]
  },
  {
   "cell_type": "markdown",
   "id": "9e5ed15a",
   "metadata": {},
   "source": [
    "# 4.1 Renaming Columns"
   ]
  },
  {
   "cell_type": "code",
   "execution_count": 39,
   "id": "d13bc0c7",
   "metadata": {},
   "outputs": [],
   "source": [
    "# shortening names of columns in dataframe\n",
    "df_life.rename(columns={'Life Expectancy': 'life_expect','CO2 emissions':'CO2_emiss','Health expenditure':'health_spend','Electric power consumption':'electric_consumption', 'Forest area':'forest_area','GDP per capita':'gdp_per_capita','Individuals using the Internet':'internet_usage','Military expenditure':'military_spend','People practicing open defecation':'open_defecation','People using at least basic drinking water services':'drinking_water_services','Obesity among adults':'adult_obesity','Beer consumption per capita':'beer_consumption'},inplace = True)"
   ]
  },
  {
   "cell_type": "code",
   "execution_count": 40,
   "id": "34eb072e",
   "metadata": {},
   "outputs": [
    {
     "data": {
      "text/html": [
       "<div>\n",
       "<style scoped>\n",
       "    .dataframe tbody tr th:only-of-type {\n",
       "        vertical-align: middle;\n",
       "    }\n",
       "\n",
       "    .dataframe tbody tr th {\n",
       "        vertical-align: top;\n",
       "    }\n",
       "\n",
       "    .dataframe thead th {\n",
       "        text-align: right;\n",
       "    }\n",
       "</style>\n",
       "<table border=\"1\" class=\"dataframe\">\n",
       "  <thead>\n",
       "    <tr style=\"text-align: right;\">\n",
       "      <th></th>\n",
       "      <th>Country</th>\n",
       "      <th>Year</th>\n",
       "      <th>Continent</th>\n",
       "      <th>Least Developed</th>\n",
       "      <th>life_expect</th>\n",
       "      <th>Population</th>\n",
       "      <th>CO2_emiss</th>\n",
       "      <th>health_spend</th>\n",
       "      <th>Electric_consumption</th>\n",
       "      <th>forest_area</th>\n",
       "      <th>gdp_per_capita</th>\n",
       "      <th>internet_usage</th>\n",
       "      <th>military_spend</th>\n",
       "      <th>open_defecation</th>\n",
       "      <th>drinking_water_services</th>\n",
       "      <th>adult_obesity</th>\n",
       "      <th>beer_consumption</th>\n",
       "    </tr>\n",
       "  </thead>\n",
       "  <tbody>\n",
       "    <tr>\n",
       "      <th>0</th>\n",
       "      <td>Albania</td>\n",
       "      <td>2000</td>\n",
       "      <td>Europe</td>\n",
       "      <td>False</td>\n",
       "      <td>73.955</td>\n",
       "      <td>3089027</td>\n",
       "      <td>1.026213</td>\n",
       "      <td>7.233370</td>\n",
       "      <td>1414.703784</td>\n",
       "      <td>28.076642</td>\n",
       "      <td>3860.804627</td>\n",
       "      <td>0.114097</td>\n",
       "      <td>1.246360</td>\n",
       "      <td>0.888853</td>\n",
       "      <td>86.754471</td>\n",
       "      <td>12.8</td>\n",
       "      <td>1.33431</td>\n",
       "    </tr>\n",
       "    <tr>\n",
       "      <th>1</th>\n",
       "      <td>Albania</td>\n",
       "      <td>2001</td>\n",
       "      <td>Europe</td>\n",
       "      <td>False</td>\n",
       "      <td>74.288</td>\n",
       "      <td>3060173</td>\n",
       "      <td>1.055496</td>\n",
       "      <td>7.139524</td>\n",
       "      <td>1449.647413</td>\n",
       "      <td>28.123248</td>\n",
       "      <td>4299.546493</td>\n",
       "      <td>0.325798</td>\n",
       "      <td>1.309291</td>\n",
       "      <td>0.836397</td>\n",
       "      <td>86.904070</td>\n",
       "      <td>13.3</td>\n",
       "      <td>1.48995</td>\n",
       "    </tr>\n",
       "    <tr>\n",
       "      <th>2</th>\n",
       "      <td>Albania</td>\n",
       "      <td>2002</td>\n",
       "      <td>Europe</td>\n",
       "      <td>False</td>\n",
       "      <td>74.579</td>\n",
       "      <td>3051010</td>\n",
       "      <td>1.232379</td>\n",
       "      <td>6.909341</td>\n",
       "      <td>1351.230796</td>\n",
       "      <td>28.169854</td>\n",
       "      <td>4661.402695</td>\n",
       "      <td>0.390081</td>\n",
       "      <td>1.320034</td>\n",
       "      <td>0.781899</td>\n",
       "      <td>87.451635</td>\n",
       "      <td>13.9</td>\n",
       "      <td>1.28697</td>\n",
       "    </tr>\n",
       "    <tr>\n",
       "      <th>3</th>\n",
       "      <td>Albania</td>\n",
       "      <td>2003</td>\n",
       "      <td>Europe</td>\n",
       "      <td>False</td>\n",
       "      <td>74.828</td>\n",
       "      <td>3039616</td>\n",
       "      <td>1.338985</td>\n",
       "      <td>7.063490</td>\n",
       "      <td>1578.165919</td>\n",
       "      <td>28.216460</td>\n",
       "      <td>5000.049363</td>\n",
       "      <td>0.971900</td>\n",
       "      <td>1.336843</td>\n",
       "      <td>0.728191</td>\n",
       "      <td>87.987194</td>\n",
       "      <td>14.4</td>\n",
       "      <td>1.44830</td>\n",
       "    </tr>\n",
       "    <tr>\n",
       "      <th>4</th>\n",
       "      <td>Albania</td>\n",
       "      <td>2004</td>\n",
       "      <td>Europe</td>\n",
       "      <td>False</td>\n",
       "      <td>75.039</td>\n",
       "      <td>3026939</td>\n",
       "      <td>1.404059</td>\n",
       "      <td>6.773372</td>\n",
       "      <td>1469.264539</td>\n",
       "      <td>28.263066</td>\n",
       "      <td>5427.732662</td>\n",
       "      <td>2.420388</td>\n",
       "      <td>1.381158</td>\n",
       "      <td>0.675281</td>\n",
       "      <td>88.510583</td>\n",
       "      <td>15.0</td>\n",
       "      <td>1.37617</td>\n",
       "    </tr>\n",
       "  </tbody>\n",
       "</table>\n",
       "</div>"
      ],
      "text/plain": [
       "   Country  Year Continent  Least Developed  life_expect  Population  \\\n",
       "0  Albania  2000    Europe            False       73.955     3089027   \n",
       "1  Albania  2001    Europe            False       74.288     3060173   \n",
       "2  Albania  2002    Europe            False       74.579     3051010   \n",
       "3  Albania  2003    Europe            False       74.828     3039616   \n",
       "4  Albania  2004    Europe            False       75.039     3026939   \n",
       "\n",
       "   CO2_emiss  health_spend  Electric_consumption  forest_area  gdp_per_capita  \\\n",
       "0   1.026213      7.233370           1414.703784    28.076642     3860.804627   \n",
       "1   1.055496      7.139524           1449.647413    28.123248     4299.546493   \n",
       "2   1.232379      6.909341           1351.230796    28.169854     4661.402695   \n",
       "3   1.338985      7.063490           1578.165919    28.216460     5000.049363   \n",
       "4   1.404059      6.773372           1469.264539    28.263066     5427.732662   \n",
       "\n",
       "   internet_usage  military_spend  open_defecation  drinking_water_services  \\\n",
       "0        0.114097        1.246360         0.888853                86.754471   \n",
       "1        0.325798        1.309291         0.836397                86.904070   \n",
       "2        0.390081        1.320034         0.781899                87.451635   \n",
       "3        0.971900        1.336843         0.728191                87.987194   \n",
       "4        2.420388        1.381158         0.675281                88.510583   \n",
       "\n",
       "   adult_obesity  beer_consumption  \n",
       "0           12.8           1.33431  \n",
       "1           13.3           1.48995  \n",
       "2           13.9           1.28697  \n",
       "3           14.4           1.44830  \n",
       "4           15.0           1.37617  "
      ]
     },
     "execution_count": 40,
     "metadata": {},
     "output_type": "execute_result"
    }
   ],
   "source": [
    "# confirming succesful renaming of columns\n",
    "df_life.head(5)"
   ]
  },
  {
   "cell_type": "code",
   "execution_count": 56,
   "id": "60e911ec",
   "metadata": {},
   "outputs": [
    {
     "data": {
      "text/plain": [
       "Country\n",
       "Albania                21\n",
       "Namibia                21\n",
       "Paraguay               21\n",
       "Panama                 21\n",
       "Pakistan               21\n",
       "Oman                   21\n",
       "Norway                 21\n",
       "North Macedonia        21\n",
       "Nigeria                21\n",
       "Niger                  21\n",
       "Nicaragua              21\n",
       "New Zealand            21\n",
       "Netherlands            21\n",
       "Nepal                  21\n",
       "Myanmar                21\n",
       "Algeria                21\n",
       "Mozambique             21\n",
       "Morocco                21\n",
       "Montenegro             21\n",
       "Mongolia               21\n",
       "Moldova                21\n",
       "Mexico                 21\n",
       "Mauritius              21\n",
       "Malta                  21\n",
       "Malaysia               21\n",
       "Luxembourg             21\n",
       "Lithuania              21\n",
       "Libya                  21\n",
       "Peru                   21\n",
       "Philippines            21\n",
       "Poland                 21\n",
       "Portugal               21\n",
       "Uruguay                21\n",
       "United States          21\n",
       "United Kingdom         21\n",
       "Ukraine                21\n",
       "Turkiye                21\n",
       "Tunisia                21\n",
       "Trinidad and Tobago    21\n",
       "Togo                   21\n",
       "Thailand               21\n",
       "Tanzania               21\n",
       "Tajikistan             21\n",
       "Switzerland            21\n",
       "Sweden                 21\n",
       "Sudan                  21\n",
       "Sri Lanka              21\n",
       "Spain                  21\n",
       "South Africa           21\n",
       "Slovenia               21\n",
       "Slovak Republic        21\n",
       "Serbia                 21\n",
       "Senegal                21\n",
       "Saudi Arabia           21\n",
       "Russian Federation     21\n",
       "Romania                21\n",
       "Qatar                  21\n",
       "Latvia                 21\n",
       "Kyrgyz Republic        21\n",
       "Kuwait                 21\n",
       "Denmark                21\n",
       "Kenya                  21\n",
       "Croatia                21\n",
       "Cote d'Ivoire          21\n",
       "Costa Rica             21\n",
       "Colombia               21\n",
       "China                  21\n",
       "Chile                  21\n",
       "Canada                 21\n",
       "Cameroon               21\n",
       "Cambodia               21\n",
       "Bulgaria               21\n",
       "Brunei Darussalam      21\n",
       "Brazil                 21\n",
       "Botswana               21\n",
       "Bolivia                21\n",
       "Benin                  21\n",
       "Belgium                21\n",
       "Belarus                21\n",
       "Bangladesh             21\n",
       "Bahrain                21\n",
       "Austria                21\n",
       "Australia              21\n",
       "Armenia                21\n",
       "Argentina              21\n",
       "Angola                 21\n",
       "Czechia                21\n",
       "Cyprus                 21\n",
       "Ecuador                21\n",
       "Greece                 21\n",
       "Kazakhstan             21\n",
       "Jordan                 21\n",
       "Jamaica                21\n",
       "Italy                  21\n",
       "Israel                 21\n",
       "Ireland                21\n",
       "Iraq                   21\n",
       "Indonesia              21\n",
       "India                  21\n",
       "Hungary                21\n",
       "Honduras               21\n",
       "Guatemala              21\n",
       "Ghana                  21\n",
       "Finland                21\n",
       "El Salvador            21\n",
       "Eritrea                21\n",
       "Estonia                21\n",
       "Ethiopia               21\n",
       "France                 21\n",
       "Gabon                  21\n",
       "Georgia                21\n",
       "Germany                21\n",
       "Zimbabwe               21\n",
       "Iran                   16\n",
       "Egypt                  16\n",
       "Congo Dem. Rep.        16\n",
       "Congo Rep.             16\n",
       "Venezuela              16\n",
       "Yemen                  16\n",
       "Name: count, dtype: int64"
      ]
     },
     "execution_count": 56,
     "metadata": {},
     "output_type": "execute_result"
    }
   ],
   "source": [
    "# counting the number of unique countries in dataset and the number of entries for each\n",
    "df_life['Country'].value_counts(dropna = False)"
   ]
  },
  {
   "cell_type": "markdown",
   "id": "62f7d324",
   "metadata": {},
   "source": [
    "# 4.2. Missing values"
   ]
  },
  {
   "cell_type": "code",
   "execution_count": 42,
   "id": "12e44b89",
   "metadata": {
    "scrolled": true
   },
   "outputs": [
    {
     "data": {
      "text/plain": [
       "Country                      0\n",
       "Year                         0\n",
       "Continent                    0\n",
       "Least Developed              0\n",
       "life_expect                  0\n",
       "Population                   0\n",
       "CO2_emiss                    0\n",
       "health_spend                 9\n",
       "Electric_consumption       565\n",
       "forest_area                  0\n",
       "gdp_per_capita               0\n",
       "internet_usage               0\n",
       "military_spend               0\n",
       "open_defecation              0\n",
       "drinking_water_services      0\n",
       "adult_obesity              452\n",
       "beer_consumption           117\n",
       "dtype: int64"
      ]
     },
     "execution_count": 42,
     "metadata": {},
     "output_type": "execute_result"
    }
   ],
   "source": [
    "# counting null values in dataset\n",
    "df_life.isnull().sum()"
   ]
  },
  {
   "cell_type": "markdown",
   "id": "52ed55f5",
   "metadata": {},
   "source": [
    "# 4.2.1 Missing values in health_spend"
   ]
  },
  {
   "cell_type": "code",
   "execution_count": 67,
   "id": "de7b675f",
   "metadata": {},
   "outputs": [],
   "source": [
    "df_missing_health = df_life[df_life['health_spend'].isnull()]"
   ]
  },
  {
   "cell_type": "code",
   "execution_count": 71,
   "id": "fe7fe841",
   "metadata": {
    "scrolled": true
   },
   "outputs": [
    {
     "data": {
      "text/plain": [
       "Year\n",
       "2016    1\n",
       "2017    1\n",
       "2018    1\n",
       "2019    3\n",
       "2020    3\n",
       "Name: Country, dtype: int64"
      ]
     },
     "execution_count": 71,
     "metadata": {},
     "output_type": "execute_result"
    }
   ],
   "source": [
    "# grouping missing values datframe by year\n",
    "df_missing_health.groupby(['Year']).Country.nunique()"
   ]
  },
  {
   "cell_type": "code",
   "execution_count": 72,
   "id": "fde052c2",
   "metadata": {},
   "outputs": [
    {
     "data": {
      "text/plain": [
       "Country\n",
       "Albania         2\n",
       "Libya           5\n",
       "Saudi Arabia    2\n",
       "Name: Year, dtype: int64"
      ]
     },
     "execution_count": 72,
     "metadata": {},
     "output_type": "execute_result"
    }
   ],
   "source": [
    "# grouping missing values by Country\n",
    "df_missing_health.groupby(['Country']).Year.nunique()"
   ]
  },
  {
   "cell_type": "markdown",
   "id": "18293818",
   "metadata": {},
   "source": [
    "# 4.2.2 Missing values in electric_consumption"
   ]
  },
  {
   "cell_type": "code",
   "execution_count": 44,
   "id": "457c363c",
   "metadata": {},
   "outputs": [],
   "source": [
    "# creating a subset for rows with missing Electric_consumption \n",
    "df_missing_power = df_life[df_life['Electric_consumption'].isnull()]"
   ]
  },
  {
   "cell_type": "code",
   "execution_count": 57,
   "id": "bc62dbb2",
   "metadata": {
    "scrolled": true
   },
   "outputs": [
    {
     "data": {
      "text/plain": [
       "Year\n",
       "2000    119\n",
       "2001    119\n",
       "2002    119\n",
       "2003    119\n",
       "2004    119\n",
       "2005    119\n",
       "2006    119\n",
       "2007    119\n",
       "2008    119\n",
       "2009    119\n",
       "2010    119\n",
       "2011    119\n",
       "2012    119\n",
       "2013    119\n",
       "2014    119\n",
       "2015    119\n",
       "2016    113\n",
       "2017    113\n",
       "2018    113\n",
       "2019    113\n",
       "2020    113\n",
       "Name: Country, dtype: int64"
      ]
     },
     "execution_count": 57,
     "metadata": {},
     "output_type": "execute_result"
    }
   ],
   "source": [
    "# grouping the original datframe by Year for each unique country\n",
    "df_life.groupby(['Year']).Country.nunique()"
   ]
  },
  {
   "cell_type": "code",
   "execution_count": 31,
   "id": "c3f7f8e7",
   "metadata": {},
   "outputs": [
    {
     "data": {
      "text/plain": [
       "Year\n",
       "2016    113\n",
       "2017    113\n",
       "2018    113\n",
       "2019    113\n",
       "2020    113\n",
       "Name: Country, dtype: int64"
      ]
     },
     "execution_count": 31,
     "metadata": {},
     "output_type": "execute_result"
    }
   ],
   "source": [
    "# grouping the missing values by year for each unique country\n",
    "df_missing_power.groupby(['Year']).Country.nunique()"
   ]
  },
  {
   "cell_type": "markdown",
   "id": "5b82a554",
   "metadata": {},
   "source": [
    "Note: missing consumption values are in the years 2016 to 2020 for Egypt, Iran, Congo Dem. Rep., Congo Rep., Venezuela and Yemen "
   ]
  },
  {
   "cell_type": "markdown",
   "id": "d4493efb",
   "metadata": {},
   "source": [
    "# 4.2.3 Missing values in adult_obesity"
   ]
  },
  {
   "cell_type": "code",
   "execution_count": 47,
   "id": "e5addf70",
   "metadata": {},
   "outputs": [],
   "source": [
    "# create subset for rows with missing values in adult_obesity column\n",
    "df_missing_obesity = df_life[df_life['adult_obesity'].isnull()]"
   ]
  },
  {
   "cell_type": "code",
   "execution_count": 64,
   "id": "ec22e15a",
   "metadata": {},
   "outputs": [
    {
     "data": {
      "text/plain": [
       "Year\n",
       "2017    113\n",
       "2018    113\n",
       "2019    113\n",
       "2020    113\n",
       "Name: Country, dtype: int64"
      ]
     },
     "execution_count": 64,
     "metadata": {},
     "output_type": "execute_result"
    }
   ],
   "source": [
    "# grouping the missing values by country\n",
    "df_missing_obesity.groupby(['Year']).Country.nunique()"
   ]
  },
  {
   "cell_type": "markdown",
   "id": "a6d6a0fd",
   "metadata": {},
   "source": [
    "# 4.2.4 Missing values in beer_consumption"
   ]
  },
  {
   "cell_type": "code",
   "execution_count": 49,
   "id": "3b87ed18",
   "metadata": {},
   "outputs": [],
   "source": [
    "# create subset for rows with missing values in beer_consumption column\n",
    "df_missing_beer = df_life[df_life['beer_consumption'].isnull()]"
   ]
  },
  {
   "cell_type": "code",
   "execution_count": 66,
   "id": "eadd35f4",
   "metadata": {},
   "outputs": [
    {
     "data": {
      "text/plain": [
       "Country\n",
       "Albania                1\n",
       "Algeria                1\n",
       "Angola                 1\n",
       "Argentina              1\n",
       "Armenia                1\n",
       "Australia              1\n",
       "Austria                1\n",
       "Bahrain                1\n",
       "Bangladesh             1\n",
       "Belarus                1\n",
       "Belgium                1\n",
       "Benin                  1\n",
       "Bolivia                1\n",
       "Botswana               1\n",
       "Brazil                 1\n",
       "Brunei Darussalam      1\n",
       "Bulgaria               1\n",
       "Cambodia               1\n",
       "Cameroon               1\n",
       "Canada                 1\n",
       "Chile                  1\n",
       "China                  1\n",
       "Colombia               1\n",
       "Costa Rica             1\n",
       "Cote d'Ivoire          1\n",
       "Croatia                1\n",
       "Cyprus                 1\n",
       "Czechia                1\n",
       "Denmark                1\n",
       "Ecuador                1\n",
       "El Salvador            1\n",
       "Eritrea                1\n",
       "Estonia                1\n",
       "Ethiopia               1\n",
       "Finland                1\n",
       "France                 1\n",
       "Gabon                  1\n",
       "Georgia                1\n",
       "Germany                1\n",
       "Ghana                  1\n",
       "Greece                 1\n",
       "Guatemala              1\n",
       "Honduras               1\n",
       "Hungary                1\n",
       "India                  1\n",
       "Indonesia              1\n",
       "Iraq                   1\n",
       "Ireland                1\n",
       "Israel                 1\n",
       "Italy                  1\n",
       "Jamaica                1\n",
       "Jordan                 1\n",
       "Kazakhstan             1\n",
       "Kenya                  1\n",
       "Kuwait                 1\n",
       "Kyrgyz Republic        1\n",
       "Latvia                 1\n",
       "Libya                  1\n",
       "Lithuania              1\n",
       "Luxembourg             1\n",
       "Malaysia               1\n",
       "Malta                  1\n",
       "Mauritius              1\n",
       "Mexico                 1\n",
       "Moldova                1\n",
       "Mongolia               1\n",
       "Montenegro             1\n",
       "Morocco                1\n",
       "Mozambique             1\n",
       "Myanmar                1\n",
       "Namibia                1\n",
       "Nepal                  1\n",
       "Netherlands            1\n",
       "New Zealand            1\n",
       "Nicaragua              1\n",
       "Niger                  1\n",
       "Nigeria                1\n",
       "North Macedonia        1\n",
       "Norway                 1\n",
       "Oman                   1\n",
       "Pakistan               1\n",
       "Panama                 1\n",
       "Paraguay               1\n",
       "Peru                   1\n",
       "Philippines            1\n",
       "Poland                 1\n",
       "Portugal               1\n",
       "Qatar                  1\n",
       "Romania                1\n",
       "Russian Federation     1\n",
       "Saudi Arabia           1\n",
       "Senegal                1\n",
       "Serbia                 1\n",
       "Slovak Republic        1\n",
       "Slovenia               1\n",
       "South Africa           1\n",
       "Spain                  1\n",
       "Sri Lanka              1\n",
       "Sudan                  5\n",
       "Sweden                 1\n",
       "Switzerland            1\n",
       "Tajikistan             1\n",
       "Tanzania               1\n",
       "Thailand               1\n",
       "Togo                   1\n",
       "Trinidad and Tobago    1\n",
       "Tunisia                1\n",
       "Turkiye                1\n",
       "Ukraine                1\n",
       "United Kingdom         1\n",
       "United States          1\n",
       "Uruguay                1\n",
       "Zimbabwe               1\n",
       "Name: Year, dtype: int64"
      ]
     },
     "execution_count": 66,
     "metadata": {},
     "output_type": "execute_result"
    }
   ],
   "source": [
    "# grouping missing values by country and each unique year\n",
    "df_missing_beer.groupby(['Country']).Year.nunique()"
   ]
  },
  {
   "cell_type": "code",
   "execution_count": 65,
   "id": "0792bcde",
   "metadata": {},
   "outputs": [
    {
     "data": {
      "text/plain": [
       "Year\n",
       "2016      1\n",
       "2017      1\n",
       "2018      1\n",
       "2019      1\n",
       "2020    113\n",
       "Name: Country, dtype: int64"
      ]
     },
     "execution_count": 65,
     "metadata": {},
     "output_type": "execute_result"
    }
   ],
   "source": [
    "# grouping the missing values by Year and each unique country\n",
    "df_missing_beer.groupby(['Year']).Country.nunique() "
   ]
  },
  {
   "cell_type": "markdown",
   "id": "fcb083c4",
   "metadata": {},
   "source": [
    " #all countries have missing beer_consumption data in year 2020. Sudan is missing 2016 to 2020!"
   ]
  },
  {
   "cell_type": "markdown",
   "id": "ba31c1e3",
   "metadata": {},
   "source": [
    "# 4.2.5 Limiting dataset range of years (2000 to 2015)"
   ]
  },
  {
   "cell_type": "code",
   "execution_count": 73,
   "id": "1e82db00",
   "metadata": {},
   "outputs": [],
   "source": [
    "# limiting the datframe to years 2000 to 2015\n",
    "df_life_cleaned = df_life[df_life['Year']<2016]"
   ]
  },
  {
   "cell_type": "code",
   "execution_count": 74,
   "id": "9480bfc9",
   "metadata": {},
   "outputs": [
    {
     "data": {
      "text/plain": [
       "Country                    0\n",
       "Year                       0\n",
       "Continent                  0\n",
       "Least Developed            0\n",
       "life_expect                0\n",
       "Population                 0\n",
       "CO2_emiss                  0\n",
       "health_spend               0\n",
       "Electric_consumption       0\n",
       "forest_area                0\n",
       "gdp_per_capita             0\n",
       "internet_usage             0\n",
       "military_spend             0\n",
       "open_defecation            0\n",
       "drinking_water_services    0\n",
       "adult_obesity              0\n",
       "beer_consumption           0\n",
       "dtype: int64"
      ]
     },
     "execution_count": 74,
     "metadata": {},
     "output_type": "execute_result"
    }
   ],
   "source": [
    "# confirming that there are no missing values\n",
    "df_life_cleaned.isnull().sum()"
   ]
  },
  {
   "cell_type": "markdown",
   "id": "79c34768",
   "metadata": {},
   "source": [
    "# 4.3 Mixed Type columns"
   ]
  },
  {
   "cell_type": "code",
   "execution_count": 75,
   "id": "ce495bc4",
   "metadata": {},
   "outputs": [
    {
     "name": "stdout",
     "output_type": "stream",
     "text": [
      "Country no mixed datatype\n",
      "Year no mixed datatype\n",
      "Continent no mixed datatype\n",
      "Least Developed no mixed datatype\n",
      "life_expect no mixed datatype\n",
      "Population no mixed datatype\n",
      "CO2_emiss no mixed datatype\n",
      "health_spend no mixed datatype\n",
      "Electric_consumption no mixed datatype\n",
      "forest_area no mixed datatype\n",
      "gdp_per_capita no mixed datatype\n",
      "internet_usage no mixed datatype\n",
      "military_spend no mixed datatype\n",
      "open_defecation no mixed datatype\n",
      "drinking_water_services no mixed datatype\n",
      "adult_obesity no mixed datatype\n",
      "beer_consumption no mixed datatype\n"
     ]
    }
   ],
   "source": [
    "# checking mixed values in dataset - no mixed typed data in columns!\n",
    "for col in df_life_cleaned.columns.tolist():\n",
    "    if len(df_life_cleaned[col].apply(type).unique()) > 1:\n",
    "        print(col + ' has mixed datatype')\n",
    "    else:\n",
    "        print(col + ' no mixed datatype')\n"
   ]
  },
  {
   "cell_type": "markdown",
   "id": "d2274c72",
   "metadata": {},
   "source": [
    "# 4.4 Duplicates"
   ]
  },
  {
   "cell_type": "code",
   "execution_count": 77,
   "id": "61d12177",
   "metadata": {},
   "outputs": [],
   "source": [
    "# checking for duplicates\n",
    "dups = df_life_cleaned[df_life_cleaned.duplicated()]"
   ]
  },
  {
   "cell_type": "code",
   "execution_count": 78,
   "id": "4e223bc1",
   "metadata": {},
   "outputs": [
    {
     "data": {
      "text/plain": [
       "(0, 17)"
      ]
     },
     "execution_count": 78,
     "metadata": {},
     "output_type": "execute_result"
    }
   ],
   "source": [
    "# checking duplicates - no duplicate rows!\n",
    "dups.shape"
   ]
  },
  {
   "cell_type": "markdown",
   "id": "e155fcbf",
   "metadata": {},
   "source": [
    "# 04. Export Dataframes"
   ]
  },
  {
   "cell_type": "code",
   "execution_count": 79,
   "id": "a6201eaa",
   "metadata": {},
   "outputs": [],
   "source": [
    "# export reviewed dataset to pickle file format\n",
    "df_life_cleaned.to_pickle(os.path.join(path,'02_Data','Prepared Data', 'df_life_expectancy_clean.pkl'))"
   ]
  }
 ],
 "metadata": {
  "kernelspec": {
   "display_name": "Python 3 (ipykernel)",
   "language": "python",
   "name": "python3"
  },
  "language_info": {
   "codemirror_mode": {
    "name": "ipython",
    "version": 3
   },
   "file_extension": ".py",
   "mimetype": "text/x-python",
   "name": "python",
   "nbconvert_exporter": "python",
   "pygments_lexer": "ipython3",
   "version": "3.11.5"
  }
 },
 "nbformat": 4,
 "nbformat_minor": 5
}
