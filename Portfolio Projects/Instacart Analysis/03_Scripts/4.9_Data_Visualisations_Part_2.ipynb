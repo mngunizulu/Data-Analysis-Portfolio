{
 "cells": [
  {
   "cell_type": "markdown",
   "id": "28e164e2",
   "metadata": {},
   "source": [
    "# 4.9_2. Data Visualisations"
   ]
  },
  {
   "cell_type": "markdown",
   "id": "5e7380c5",
   "metadata": {},
   "source": [
    "Contents\n",
    "1.  Import Libraries\n",
    "2.  Import Dataframe\n",
    "3.  Bar Chart Days of Week\n",
    "4.  Histogram Price Frequency\n",
    "5.  Scatterplot Price\n",
    "6.  Using a subset to create a Temporal Line Chart\n",
    "7.  Histogram hour of day\n",
    "8.  Bar chart customer profile\n",
    "9.  Randomised sample for line chart\n",
    "10. Line chart Dependents and Age\n",
    "11. Scatterplot Income and Age\n",
    "12. Export Dataframe"
   ]
  },
  {
   "cell_type": "markdown",
   "id": "82cf77be",
   "metadata": {},
   "source": [
    "# 01. Import Libraries"
   ]
  },
  {
   "cell_type": "code",
   "execution_count": null,
   "id": "856fb0aa",
   "metadata": {},
   "outputs": [],
   "source": [
    "import pandas as pd\n",
    "import numpy as np\n",
    "import os\n",
    "import matplotlib.pyplot as plt\n",
    "import seaborn as sns\n",
    "import scipy"
   ]
  },
  {
   "cell_type": "markdown",
   "id": "1cc8cd90",
   "metadata": {},
   "source": [
    "# 02. Import Dataframe"
   ]
  },
  {
   "cell_type": "code",
   "execution_count": null,
   "id": "3ff744c5",
   "metadata": {},
   "outputs": [],
   "source": [
    "# create path to folder\n",
    "path = r'C:\\Users\\mngun\\Documents\\11_2023_InstaCart_asket_Analysis'"
   ]
  },
  {
   "cell_type": "code",
   "execution_count": null,
   "id": "24a5adb5",
   "metadata": {},
   "outputs": [],
   "source": [
    "# import the latest dataframe\n",
    "ords_prods_cust = pd.read_pickle(os.path.join(path, '02_Data','Prepared Data','ords_prods_cust.pkl'))"
   ]
  },
  {
   "cell_type": "code",
   "execution_count": null,
   "id": "67b6acb8",
   "metadata": {},
   "outputs": [],
   "source": [
    "# reviewing the imported dataframe\n",
    "ords_prods_cust.shape"
   ]
  },
  {
   "cell_type": "code",
   "execution_count": null,
   "id": "3399d352",
   "metadata": {},
   "outputs": [],
   "source": [
    "# reviewing the imported dataframe\n",
    "ords_prods_cust.head()"
   ]
  },
  {
   "cell_type": "markdown",
   "id": "9644b2b4",
   "metadata": {},
   "source": [
    "# 03. Bar Chart Days of Week"
   ]
  },
  {
   "cell_type": "code",
   "execution_count": null,
   "id": "57e8cd7c",
   "metadata": {
    "scrolled": false
   },
   "outputs": [],
   "source": [
    "# bar chart with sorted results\n",
    "bar_dow = ords_prods_cust['orders_day_of_week'].value_counts().sort_index().plot.bar(color= ['#1f78b4', '#33a02c', '#e31a1c', '#ff7f00', '#6a3d9a', '#a6cee3', '#fdbf6f'])\n",
    "plt.title('Sum of Orders by Day of Week')\n",
    "plt.xlabel('Day of the Week')\n",
    "plt.ylabel('Number of Orders')"
   ]
  },
  {
   "cell_type": "code",
   "execution_count": null,
   "id": "edbae3f2",
   "metadata": {},
   "outputs": [],
   "source": [
    "# export bar chart\n",
    "bar_dow.figure.savefig(os.path.join(path,'04_Analysis','Visualisations','bar_dow_sorted.png'))"
   ]
  },
  {
   "cell_type": "markdown",
   "id": "50e615a5",
   "metadata": {},
   "source": [
    "# 04. Histogram Price Frequency"
   ]
  },
  {
   "cell_type": "code",
   "execution_count": null,
   "id": "36509aa4",
   "metadata": {
    "scrolled": false
   },
   "outputs": [],
   "source": [
    "# create histogram with color for prices\n",
    "hist = ords_prods_cust['prices'].plot.hist(bins = 75, color='skyblue', edgecolor= 'black')\n",
    "plt.title('Frequency of Prices')\n",
    "plt.xlabel('Price')\n",
    "plt.ylabel('Frequency')"
   ]
  },
  {
   "cell_type": "code",
   "execution_count": null,
   "id": "926564ea",
   "metadata": {},
   "outputs": [],
   "source": [
    "# export histogram\n",
    "hist.figure.savefig(os.path.join(path,'04_Analysis','Visualisations','hist_prices.png'))"
   ]
  },
  {
   "cell_type": "markdown",
   "id": "1c6ba90c",
   "metadata": {},
   "source": [
    "# 05. Scatterplot Price"
   ]
  },
  {
   "cell_type": "code",
   "execution_count": null,
   "id": "bc90730d",
   "metadata": {
    "scrolled": false
   },
   "outputs": [],
   "source": [
    "# generate scatterplot for prices\n",
    "scatterplot = sns.scatterplot(x='prices', y='prices', data= ords_prods_cust)\n",
    "plt.title('Scatterplot of Prices')\n",
    "plt.xlabel('Prices')\n",
    "plt.ylabel('Prices')"
   ]
  },
  {
   "cell_type": "code",
   "execution_count": null,
   "id": "59df54f3",
   "metadata": {},
   "outputs": [],
   "source": [
    "# export scatterplot\n",
    "scatterplot.figure.savefig(os.path.join(path,'04_Analysis','Visualisations','scatter_prices.png'))"
   ]
  },
  {
   "cell_type": "markdown",
   "id": "1181748e",
   "metadata": {},
   "source": [
    "# 06. Using a subset to create a Temporal Line Chart"
   ]
  },
  {
   "cell_type": "code",
   "execution_count": null,
   "id": "02cfc648",
   "metadata": {},
   "outputs": [],
   "source": [
    "# assign a seed to randomised distribution\n",
    "np.random.seed(5)"
   ]
  },
  {
   "cell_type": "code",
   "execution_count": null,
   "id": "31545cc7",
   "metadata": {},
   "outputs": [],
   "source": [
    "# create a randomised subset\n",
    "dev = np.random.rand(len(ords_prods_cust))<= 0.8"
   ]
  },
  {
   "cell_type": "code",
   "execution_count": null,
   "id": "b81dfa03",
   "metadata": {},
   "outputs": [],
   "source": [
    "# assigning temporary names to big and small subsets\n",
    "big = ords_prods_cust[dev]\n",
    "small = ords_prods_cust[~dev]"
   ]
  },
  {
   "cell_type": "code",
   "execution_count": null,
   "id": "ee430d49",
   "metadata": {},
   "outputs": [],
   "source": [
    "# stating length of dataframe for comparison\n",
    "len(ords_prods_cust)"
   ]
  },
  {
   "cell_type": "code",
   "execution_count": null,
   "id": "6c529c92",
   "metadata": {},
   "outputs": [],
   "source": [
    "# commparing length of subsets to ensure completeness\n",
    "len(big) + len(small)"
   ]
  },
  {
   "cell_type": "code",
   "execution_count": null,
   "id": "d3d4cd95",
   "metadata": {},
   "outputs": [],
   "source": [
    "# isolate two columns from small sample for analysis\n",
    "df_line = small[['orders_day_of_week','prices']]"
   ]
  },
  {
   "cell_type": "code",
   "execution_count": null,
   "id": "7ab7e1fb",
   "metadata": {},
   "outputs": [],
   "source": [
    "# generate line chart\n",
    "line_2 = sns.lineplot(data= df_line, x= 'orders_day_of_week', y= 'prices')\n",
    "plt.title('Orders by day of Week')\n",
    "plt.xlabel('Day of Week')\n",
    "plt.ylabel('Prices')"
   ]
  },
  {
   "cell_type": "code",
   "execution_count": null,
   "id": "19b5dd6f",
   "metadata": {},
   "outputs": [],
   "source": [
    "# export line chart\n",
    "line_2.figure.savefig(os.path.join(path,'04_Analysis','Visualisations','line_prices.png'))"
   ]
  },
  {
   "cell_type": "markdown",
   "id": "62fe3b2d",
   "metadata": {},
   "source": [
    "# 07. Histogram hour of day"
   ]
  },
  {
   "cell_type": "code",
   "execution_count": null,
   "id": "724b7912",
   "metadata": {},
   "outputs": [],
   "source": [
    "# create histogram with and color for order_hour_of_day\n",
    "hist_2 = ords_prods_cust['order_hour_of_day'].plot.hist(bins = 24, color='#ff7f00', edgecolor= 'black')\n",
    "plt.title('Orders by Hour of Day')\n",
    "plt.xlabel('Hour of Day')\n",
    "plt.ylabel('Order Numbers')"
   ]
  },
  {
   "cell_type": "markdown",
   "id": "b8abe538",
   "metadata": {},
   "source": [
    "Interpretation:\n",
    "- The histogram uses scientific notation on the y-axis and plots the frquency of the hours of each order in the dataframe\n",
    "- The majority of orders occur during the day, between 9am and 4pm, with 10am being the peak. The fewest orders are made at 3am."
   ]
  },
  {
   "cell_type": "code",
   "execution_count": null,
   "id": "2abd05b3",
   "metadata": {},
   "outputs": [],
   "source": [
    "# export histogram order_hour_of_day\n",
    "hist_2.figure.savefig(os.path.join(path,'04_Analysis','Visualisations','hist_order_hour.png'))"
   ]
  },
  {
   "cell_type": "markdown",
   "id": "14d01ea9",
   "metadata": {},
   "source": [
    "# 08. Bar chart customer profile"
   ]
  },
  {
   "cell_type": "code",
   "execution_count": null,
   "id": "f587a297",
   "metadata": {},
   "outputs": [],
   "source": [
    "# bar chart showing order quantities according to customer loyalty\n",
    "bar_loyalty = ords_prods_cust['loyalty_flag'].value_counts().plot.bar(color= ['#008080','#FA8072','#6A5ACD'])\n",
    "plt.title('Frequency of Customer Profiles')\n",
    "plt.xlabel('Customer Profile')\n",
    "plt.ylabel('Orders')"
   ]
  },
  {
   "cell_type": "code",
   "execution_count": null,
   "id": "aac2dff2",
   "metadata": {},
   "outputs": [],
   "source": [
    "# export bar chart as png\n",
    "bar_loyalty.figure.savefig(os.path.join(path, '04_Analysis','Visualisations','bar_loyalty.png'),bbox_inches='tight')"
   ]
  },
  {
   "cell_type": "markdown",
   "id": "aa943868",
   "metadata": {},
   "source": [
    "# 09. Randomised sample for line chart"
   ]
  },
  {
   "cell_type": "code",
   "execution_count": null,
   "id": "3672c612",
   "metadata": {},
   "outputs": [],
   "source": [
    "# using random sample set to create line chart for order_hour_of_day\n",
    "df_line_2 = small[['order_hour_of_day','prices']]"
   ]
  },
  {
   "cell_type": "code",
   "execution_count": null,
   "id": "2b733d20",
   "metadata": {},
   "outputs": [],
   "source": [
    "# create line chart for order_hour_of_day\n",
    "line_hour = sns.lineplot(data= df_line_2, x= 'order_hour_of_day', y= 'prices')\n",
    "plt.title('Spending per hour of day')\n",
    "plt.xlabel('Hour of Day')\n",
    "plt.ylabel('Prices')"
   ]
  },
  {
   "cell_type": "code",
   "execution_count": null,
   "id": "4aee411a",
   "metadata": {},
   "outputs": [],
   "source": [
    "# export line chart\n",
    "line_hour.figure.savefig(os.path.join(path,'04_Analysis','Visualisations','line_hour_price.png'))"
   ]
  },
  {
   "cell_type": "markdown",
   "id": "4c830ea5",
   "metadata": {},
   "source": [
    "# 10. Line chart Dependents and Age"
   ]
  },
  {
   "cell_type": "code",
   "execution_count": null,
   "id": "18b72084",
   "metadata": {},
   "outputs": [],
   "source": [
    "# using random sample set to create line chart for order_hour_of_day\n",
    "df_line_3 = small[['age','n_dependants']]"
   ]
  },
  {
   "cell_type": "code",
   "execution_count": null,
   "id": "9dcd9638",
   "metadata": {},
   "outputs": [],
   "source": [
    "# create line chart for age and dependants\n",
    "line_dependants = sns.lineplot(data= df_line_3, x= 'age', y= 'n_dependants')\n",
    "plt.title('Number of Dependents and Customer Age')\n",
    "plt.xlabel('Customer Age')\n",
    "plt.ylabel('Number of dependents')"
   ]
  },
  {
   "cell_type": "markdown",
   "id": "5263c68e",
   "metadata": {},
   "source": [
    "Comments:\n",
    "- I would have prefered to use a scatterplot chart to reveal any trends or possible relationships, however it can still be seen that there is no real relationship between progressive age and number of dependants."
   ]
  },
  {
   "cell_type": "code",
   "execution_count": null,
   "id": "33b4fccb",
   "metadata": {},
   "outputs": [],
   "source": [
    "# export line chart\n",
    "line_dependants.figure.savefig(os.path.join(path,'04_Analysis','Visualisations','line_dependants.png'))"
   ]
  },
  {
   "cell_type": "markdown",
   "id": "e97ec961",
   "metadata": {},
   "source": [
    "# 11. Scatterplot Income and Age"
   ]
  },
  {
   "cell_type": "code",
   "execution_count": null,
   "id": "063bef63",
   "metadata": {},
   "outputs": [],
   "source": [
    "# generate a scatterplot for income and age\n",
    "scatteplot_income = sns.scatterplot(x= 'age', y= 'income', data= ords_prods_cust)\n",
    "plt.title('Scatterplot Age and Income')\n",
    "plt.xlabel('Customer Age')\n",
    "plt.ylabel('Income')"
   ]
  },
  {
   "cell_type": "markdown",
   "id": "f1173db9",
   "metadata": {},
   "source": [
    "Comments:\n",
    "- For the income range 0 to 200,000 there is relative uniformity in the distribution of income amongst the age groups.\n",
    "- When considering incomes 200,000 to 400,000 we se that individuals with such income are concentrated in the age group 40 to 80 years\n",
    "- Individuals with income above 400,000 USD are exclusively above 40 years of age."
   ]
  },
  {
   "cell_type": "markdown",
   "id": "64f54b43",
   "metadata": {},
   "source": [
    "# 12. Export Dataframe"
   ]
  },
  {
   "cell_type": "code",
   "execution_count": null,
   "id": "387d5f72",
   "metadata": {},
   "outputs": [],
   "source": [
    "# export scatterplot to png\n",
    "scatteplot_income.figure.savefig(os.path.join(path,'04_Analysis','Visualisations','scatter_income_age.png'))"
   ]
  }
 ],
 "metadata": {
  "kernelspec": {
   "display_name": "Python 3 (ipykernel)",
   "language": "python",
   "name": "python3"
  },
  "language_info": {
   "codemirror_mode": {
    "name": "ipython",
    "version": 3
   },
   "file_extension": ".py",
   "mimetype": "text/x-python",
   "name": "python",
   "nbconvert_exporter": "python",
   "pygments_lexer": "ipython3",
   "version": "3.11.5"
  }
 },
 "nbformat": 4,
 "nbformat_minor": 5
}
