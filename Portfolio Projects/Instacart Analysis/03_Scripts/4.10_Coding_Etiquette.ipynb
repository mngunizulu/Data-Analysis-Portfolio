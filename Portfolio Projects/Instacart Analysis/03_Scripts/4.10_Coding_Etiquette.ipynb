{
 "cells": [
  {
   "cell_type": "markdown",
   "id": "adea44e3",
   "metadata": {},
   "source": [
    "# 4.10. Customer Profiling and Data Visualisations"
   ]
  },
  {
   "cell_type": "markdown",
   "id": "bd7c8324",
   "metadata": {},
   "source": [
    "Contents\n",
    "1.  Importing Libraries\n",
    "2.  Import Dataframe\n",
    "3.  Checking Imported Datatframes\n",
    "4.  Security Implications\n",
    "5.  Creating new regions column (grouping)\n",
    "6.  Creating an exclusion flag\n",
    "7.  Create customer profiles\n",
    "8.  Using the loc() function to create the profiles individually\n",
    "9.  Visualising distribution of profiles\n",
    "10. Descriptive statistics for customer profiles\n",
    "11. Crosstab of customer profiles and department_id\n",
    "12. Bar chart showing sum of orders per customer profile\n",
    "13. Bar chart to show sum of orders per department\n",
    "14. Export Final Dataframe"
   ]
  },
  {
   "cell_type": "markdown",
   "id": "431c7401",
   "metadata": {},
   "source": [
    "# 01. Importing Libraries"
   ]
  },
  {
   "cell_type": "code",
   "execution_count": null,
   "id": "7b2a4fec",
   "metadata": {},
   "outputs": [],
   "source": [
    "import pandas as pd\n",
    "import numpy as np\n",
    "import os\n",
    "import matplotlib.pyplot as plt\n",
    "import seaborn as sns\n",
    "import scipy"
   ]
  },
  {
   "cell_type": "markdown",
   "id": "b29116f7",
   "metadata": {},
   "source": [
    "# 02. Import Dataframe"
   ]
  },
  {
   "cell_type": "code",
   "execution_count": null,
   "id": "ffc09af9",
   "metadata": {},
   "outputs": [],
   "source": [
    "# create path\n",
    "path =r'C:\\Users\\mngun\\Documents\\11_2023_InstaCart_asket_Analysis'"
   ]
  },
  {
   "cell_type": "code",
   "execution_count": null,
   "id": "b40bf8cd",
   "metadata": {},
   "outputs": [],
   "source": [
    "# import dataframe using created path\n",
    "ords_prods_cust = pd.read_pickle(os.path.join(path, '02_Data','Prepared Data','ords_prods_cust.pkl'))"
   ]
  },
  {
   "cell_type": "markdown",
   "id": "c84c693d",
   "metadata": {},
   "source": [
    "# 03. Checking imported dataframe"
   ]
  },
  {
   "cell_type": "code",
   "execution_count": null,
   "id": "c9a74cff",
   "metadata": {},
   "outputs": [],
   "source": [
    "# Checking dataframe shape\n",
    "ords_prods_cust.shape"
   ]
  },
  {
   "cell_type": "code",
   "execution_count": null,
   "id": "f3d1736f",
   "metadata": {},
   "outputs": [],
   "source": [
    "# Checking dataframe columns\n",
    "ords_prods_cust.head()"
   ]
  },
  {
   "cell_type": "code",
   "execution_count": null,
   "id": "5e95636d",
   "metadata": {},
   "outputs": [],
   "source": [
    "ords_prods_cust.columns.to_list()"
   ]
  },
  {
   "cell_type": "markdown",
   "id": "cf0408a6",
   "metadata": {},
   "source": [
    "# 04. Security Implications"
   ]
  },
  {
   "cell_type": "markdown",
   "id": "d6de1272",
   "metadata": {},
   "source": [
    "- the dataframe does not contain any information which could be directly linked to any individual since there are no addresses, or names"
   ]
  },
  {
   "cell_type": "markdown",
   "id": "b054e56a",
   "metadata": {},
   "source": [
    "# 05. Creating a new 'regions' column from state groupings"
   ]
  },
  {
   "cell_type": "code",
   "execution_count": null,
   "id": "f24a12bb",
   "metadata": {},
   "outputs": [],
   "source": [
    "# using .loc function to create \n",
    "ords_prods_cust.loc[ords_prods_cust['state'].isin(['Maine','New Hampshire','Vermont','Massachusetts','Rhode Island','Connecticut', 'New York', 'Pennsylvannia', 'New Jersey']), 'region'] = 'Northeast'"
   ]
  },
  {
   "cell_type": "code",
   "execution_count": null,
   "id": "589455f6",
   "metadata": {},
   "outputs": [],
   "source": [
    "ords_prods_cust.loc[ords_prods_cust['state'].isin(['Wisconsin','Michigan','Illinois','Indiana','Ohio','North Dakota','South Dakota','Nebraska','Kansas','Minnesota','Iowa','Missouri']), 'region'] = 'Midwest'"
   ]
  },
  {
   "cell_type": "code",
   "execution_count": null,
   "id": "5a4ae2f5",
   "metadata": {},
   "outputs": [],
   "source": [
    "ords_prods_cust.loc[ords_prods_cust['state'].isin(['Delaware','Maryland','District of Columbia','Virginia','West Virginia','North Carolina','South Carolina','Georgia','Florida','Kentucky','Tennessee','Mississippi','Alabama','Oklahoma','Texas','Arkansas','Louisiana']), 'region']= 'South'\n"
   ]
  },
  {
   "cell_type": "code",
   "execution_count": null,
   "id": "ae56c800",
   "metadata": {},
   "outputs": [],
   "source": [
    "ords_prods_cust.loc[ords_prods_cust['state'].isin(['Idaho','Montana','Wyoming','Nevada','Utah','Colorado','Arizona','New Mexico','Alaska','Washington','Oregon','California','Hawaii']), 'region']= 'West'"
   ]
  },
  {
   "cell_type": "code",
   "execution_count": null,
   "id": "817d5fae",
   "metadata": {},
   "outputs": [],
   "source": [
    "# checking shape after new column creation\n",
    "ords_prods_cust.shape"
   ]
  },
  {
   "cell_type": "code",
   "execution_count": null,
   "id": "6e037a92",
   "metadata": {},
   "outputs": [],
   "source": [
    "# confirming results\n",
    "ords_prods_cust.tail()"
   ]
  },
  {
   "cell_type": "code",
   "execution_count": null,
   "id": "f6e7cbe2",
   "metadata": {},
   "outputs": [],
   "source": [
    "crosstab = pd.crosstab(ords_prods_cust['spending_flag'], ords_prods_cust['region'], dropna = False)"
   ]
  },
  {
   "cell_type": "code",
   "execution_count": null,
   "id": "cf6764e6",
   "metadata": {},
   "outputs": [],
   "source": [
    "crosstab"
   ]
  },
  {
   "cell_type": "markdown",
   "id": "2a730b0b",
   "metadata": {},
   "source": [
    "# 06.Creating exclusion flag"
   ]
  },
  {
   "cell_type": "code",
   "execution_count": null,
   "id": "3f47c5d6",
   "metadata": {},
   "outputs": [],
   "source": [
    "# create a column in dataframe to count the max number of orders per user_id\n",
    "ords_prods_cust['max_order_nr'] = ords_prods_cust.groupby('user_id')['order_number'].transform('max')"
   ]
  },
  {
   "cell_type": "code",
   "execution_count": null,
   "id": "c20e7382",
   "metadata": {},
   "outputs": [],
   "source": [
    "# create a True/False indicator column based on the criteria for maximum number of orders\n",
    "ords_prods_cust['exclusion_flag'] = ords_prods_cust['max_order_nr']<5"
   ]
  },
  {
   "cell_type": "code",
   "execution_count": null,
   "id": "9acd27d7",
   "metadata": {},
   "outputs": [],
   "source": [
    "# confirm success of creating columns and exclusion flag\n",
    "ords_prods_cust.head()"
   ]
  },
  {
   "cell_type": "code",
   "execution_count": null,
   "id": "ef2df63a",
   "metadata": {},
   "outputs": [],
   "source": [
    "# drop max_order_nr column from ords_prods_cust dataframe\n",
    "ords_prods_cust = ords_prods_cust.drop('max_order_nr', axis = 1)"
   ]
  },
  {
   "cell_type": "code",
   "execution_count": null,
   "id": "27c5e85c",
   "metadata": {},
   "outputs": [],
   "source": [
    "# creating a new dataframe customers with a false flag in exclusion flag column \n",
    "frequent_customers = ords_prods_cust[ords_prods_cust['exclusion_flag']== False]"
   ]
  },
  {
   "cell_type": "code",
   "execution_count": null,
   "id": "198e4c99",
   "metadata": {},
   "outputs": [],
   "source": [
    "frequent_customers.shape"
   ]
  },
  {
   "cell_type": "markdown",
   "id": "6d200b0f",
   "metadata": {},
   "source": [
    "# 07. Create customer profiles"
   ]
  },
  {
   "cell_type": "code",
   "execution_count": null,
   "id": "c345d865",
   "metadata": {
    "scrolled": true
   },
   "outputs": [],
   "source": [
    "frequent_customers.columns"
   ]
  },
  {
   "cell_type": "code",
   "execution_count": null,
   "id": "cea50c70",
   "metadata": {},
   "outputs": [],
   "source": [
    "# dropping 3 unneeded columns for memory\n",
    "frequent_customers = frequent_customers.drop(columns=['average_price','_merge','exclusion_flag'])"
   ]
  },
  {
   "cell_type": "markdown",
   "id": "7dcbc08f",
   "metadata": {},
   "source": [
    " # 08. Using the loc() function to create the profiles individually"
   ]
  },
  {
   "cell_type": "markdown",
   "id": "620dd335",
   "metadata": {},
   "source": [
    "a) young profiles"
   ]
  },
  {
   "cell_type": "code",
   "execution_count": null,
   "id": "75e43f7b",
   "metadata": {},
   "outputs": [],
   "source": [
    "# young high-income parent\n",
    "frequent_customers.loc[(frequent_customers['age']<39) & (frequent_customers['n_dependants']>0) & (frequent_customers['income']>200000) , 'cust_profile']= 'young high-income parent'"
   ]
  },
  {
   "cell_type": "code",
   "execution_count": null,
   "id": "8fa9bee2",
   "metadata": {},
   "outputs": [],
   "source": [
    "# young low-income parent\n",
    "frequent_customers.loc[(frequent_customers['age']<39) & (frequent_customers['n_dependants']>0) & (frequent_customers['income']<80000) , 'cust_profile']= 'young low-income parent'"
   ]
  },
  {
   "cell_type": "code",
   "execution_count": null,
   "id": "12a6cd80",
   "metadata": {},
   "outputs": [],
   "source": [
    "# young middle-income adult\n",
    "frequent_customers.loc[(frequent_customers['age']<39) & (frequent_customers['n_dependants']==0) & (frequent_customers['income']<200000) , 'cust_profile']= 'young middle-income adult'"
   ]
  },
  {
   "cell_type": "code",
   "execution_count": null,
   "id": "2b12a410",
   "metadata": {},
   "outputs": [],
   "source": [
    "# young high-income earner\n",
    "frequent_customers.loc[(frequent_customers['age']<39) & (frequent_customers['n_dependants']==0) & (frequent_customers['income']>200000) , 'cust_profile']= 'young high-income earner'"
   ]
  },
  {
   "cell_type": "markdown",
   "id": "7421f09d",
   "metadata": {},
   "source": [
    "b) senior profiles"
   ]
  },
  {
   "cell_type": "code",
   "execution_count": null,
   "id": "61a3b648",
   "metadata": {},
   "outputs": [],
   "source": [
    "# high-income senior parent\n",
    "frequent_customers.loc[(frequent_customers['age']>60) & (frequent_customers['n_dependants']>0) & (frequent_customers['income']>200000) , 'cust_profile']= 'high-income senior parent'"
   ]
  },
  {
   "cell_type": "code",
   "execution_count": null,
   "id": "18a52e73",
   "metadata": {},
   "outputs": [],
   "source": [
    "# high-income senior\n",
    "frequent_customers.loc[(frequent_customers['age']>60) & (frequent_customers['n_dependants']==0) & (frequent_customers['income']>200000) , 'cust_profile']= 'high-income senior'"
   ]
  },
  {
   "cell_type": "code",
   "execution_count": null,
   "id": "22392160",
   "metadata": {},
   "outputs": [],
   "source": [
    "# middle-income senior\n",
    "frequent_customers.loc[(frequent_customers['age']>60) & (frequent_customers['n_dependants']==0) & (frequent_customers['income']<100000) , 'cust_profile']= 'middle-income senior'"
   ]
  },
  {
   "cell_type": "markdown",
   "id": "94f6078c",
   "metadata": {},
   "source": [
    "c) middle-aged profiles"
   ]
  },
  {
   "cell_type": "code",
   "execution_count": null,
   "id": "4755eec9",
   "metadata": {},
   "outputs": [],
   "source": [
    "# high-income middle-age parent\n",
    "frequent_customers.loc[(frequent_customers['age']>39) & (frequent_customers['age']<60) & (frequent_customers['n_dependants']>0) & (frequent_customers['income']>200000), 'cust_profile']= 'high-income middle-age parent'"
   ]
  },
  {
   "cell_type": "code",
   "execution_count": null,
   "id": "b829465f",
   "metadata": {},
   "outputs": [],
   "source": [
    "# high-income middle aged adult\n",
    "frequent_customers.loc[(frequent_customers['age']>39) & (frequent_customers['age']<60) & (frequent_customers['n_dependants']==0) & (frequent_customers['income']>200000), 'cust_profile']= 'high-income middle-age adult'"
   ]
  },
  {
   "cell_type": "code",
   "execution_count": null,
   "id": "276322be",
   "metadata": {},
   "outputs": [],
   "source": [
    "# regular-income middle-aged parent\n",
    "frequent_customers.loc[(frequent_customers['age']>39) & (frequent_customers['age']<60) & (frequent_customers['n_dependants']>0) & (frequent_customers['income']<200000), 'cust_profile']= 'middle-income middle-aged parent'"
   ]
  },
  {
   "cell_type": "code",
   "execution_count": null,
   "id": "c3285af5",
   "metadata": {},
   "outputs": [],
   "source": [
    "# middle-income middle-aged adult\n",
    "frequent_customers.loc[(frequent_customers['age']>39) & (frequent_customers['age']<60) & (frequent_customers['n_dependants']==0) & (frequent_customers['income']<200000), 'cust_profile']= 'middle-income middle-aged adult'"
   ]
  },
  {
   "cell_type": "code",
   "execution_count": null,
   "id": "76a61c94",
   "metadata": {},
   "outputs": [],
   "source": [
    "# low-income middle-aged adult\n",
    "frequent_customers.loc[(frequent_customers['age']>39) & (frequent_customers['age']<60) & (frequent_customers['n_dependants']==0) & (frequent_customers['income']<100000), 'cust_profile']= 'low-income middle-aged adult'"
   ]
  },
  {
   "cell_type": "code",
   "execution_count": null,
   "id": "10ae73d7",
   "metadata": {},
   "outputs": [],
   "source": [
    "# count values in column\n",
    "frequent_customers['cust_profile'].value_counts(dropna= False)"
   ]
  },
  {
   "cell_type": "code",
   "execution_count": null,
   "id": "42709bbe",
   "metadata": {},
   "outputs": [],
   "source": [
    "# replace NaN in cust_profile with other\n",
    "frequent_customers['cust_profile'].fillna('other', inplace= True)"
   ]
  },
  {
   "cell_type": "code",
   "execution_count": null,
   "id": "b44f2b99",
   "metadata": {},
   "outputs": [],
   "source": [
    "# confirm NaN values have been replaced\n",
    "frequent_customers['cust_profile'].value_counts(dropna= False)"
   ]
  },
  {
   "cell_type": "code",
   "execution_count": null,
   "id": "4650363e",
   "metadata": {},
   "outputs": [],
   "source": [
    "# counting unique user_id's for each profile\n",
    "profile_counts = frequent_customers.groupby('cust_profile')['user_id'].nunique(dropna=False)"
   ]
  },
  {
   "cell_type": "code",
   "execution_count": null,
   "id": "da12f77e",
   "metadata": {},
   "outputs": [],
   "source": [
    "profile_counts"
   ]
  },
  {
   "cell_type": "markdown",
   "id": "a3215156",
   "metadata": {},
   "source": [
    "# 09. Visualising distribution of profiles"
   ]
  },
  {
   "cell_type": "code",
   "execution_count": null,
   "id": "709f0b56",
   "metadata": {
    "scrolled": true
   },
   "outputs": [],
   "source": [
    "# generate bar chart to represent customer profiles\n",
    "bar_profiles= profile_counts.plot.bar(color= 'skyblue', edgecolor= 'black')\n",
    "# creating a title and legends\n",
    "plt.title('Frequency of Customer Profiles')\n",
    "plt.xlabel('Customer Profile')\n",
    "plt.ylabel('Number')"
   ]
  },
  {
   "cell_type": "code",
   "execution_count": null,
   "id": "c2b2ef2c",
   "metadata": {},
   "outputs": [],
   "source": [
    "# saving chart to png\n",
    "bar_profiles.figure.savefig(os.path.join(path,'04_Analysis','Visualisations','bar_customer_profiles.png'),bbox_inches='tight')"
   ]
  },
  {
   "cell_type": "markdown",
   "id": "e2f613d2",
   "metadata": {},
   "source": [
    "# 10. Descriptive statistics for customer profiles"
   ]
  },
  {
   "cell_type": "code",
   "execution_count": null,
   "id": "3d1967b4",
   "metadata": {},
   "outputs": [],
   "source": [
    "# generating the min,max and min order numbers for customer profiles \n",
    "agg_results = frequent_customers.groupby('cust_profile').agg({'order_number': ['max', 'mean', 'min'],'prices': ['max', 'mean', 'min']}).reset_index()"
   ]
  },
  {
   "cell_type": "code",
   "execution_count": null,
   "id": "5029fda4",
   "metadata": {},
   "outputs": [],
   "source": [
    "# results of descriptive statistics\n",
    "agg_results"
   ]
  },
  {
   "cell_type": "code",
   "execution_count": null,
   "id": "f15b09f9",
   "metadata": {},
   "outputs": [],
   "source": [
    "# create crosstab to show profiles per region, without NaN values\n",
    "crosstab_profile = pd.crosstab(frequent_customers['cust_profile'], frequent_customers['region'])"
   ]
  },
  {
   "cell_type": "code",
   "execution_count": null,
   "id": "b1665712",
   "metadata": {
    "scrolled": true
   },
   "outputs": [],
   "source": [
    "# show crosstab\n",
    "crosstab_profile"
   ]
  },
  {
   "cell_type": "code",
   "execution_count": null,
   "id": "45bc06b1",
   "metadata": {},
   "outputs": [],
   "source": [
    "# generate stacked bar chart from crosstab\n",
    "stacked_chart= crosstab_profile.plot(kind= 'bar', stacked= False, colormap= 'viridis', edgecolor='black')\n",
    "# creating a title and legends\n",
    "plt.title('Orders per Customer Profile by Region')\n",
    "plt.xlabel('Customer Profile')\n",
    "plt.ylabel('Orders')"
   ]
  },
  {
   "cell_type": "code",
   "execution_count": null,
   "id": "a77b5d00",
   "metadata": {},
   "outputs": [],
   "source": [
    "# export stacked bar chart to png\n",
    "stacked_chart.figure.savefig(os.path.join(path, '04_Analysis','Visualisations','stacked_chart_customers_regions.png'),bbox_inches='tight')"
   ]
  },
  {
   "cell_type": "markdown",
   "id": "53ef7b8e",
   "metadata": {},
   "source": [
    "# 11. crosstab of customer profiles and department_id"
   ]
  },
  {
   "cell_type": "code",
   "execution_count": null,
   "id": "3c19507a",
   "metadata": {},
   "outputs": [],
   "source": [
    "crosstab_profile_2 = pd.crosstab(frequent_customers['cust_profile'], frequent_customers['department_id'])"
   ]
  },
  {
   "cell_type": "code",
   "execution_count": null,
   "id": "86076fb0",
   "metadata": {},
   "outputs": [],
   "source": [
    "# most common department id for each customer profile\n",
    "frequent_customers.groupby('cust_profile')['department_id'].agg(lambda x: x.mode().iat[0] if not x.mode().empty else None)"
   ]
  },
  {
   "cell_type": "markdown",
   "id": "e0e0eb9e",
   "metadata": {},
   "source": [
    "# 12. Bar chart showing sum of orders per customer profile"
   ]
  },
  {
   "cell_type": "code",
   "execution_count": null,
   "id": "a65eac4f",
   "metadata": {},
   "outputs": [],
   "source": [
    "# sum of orders grouped by customer profile\n",
    "bar_order_customer_profile = frequent_customers.groupby('cust_profile')['order_number'].sum()"
   ]
  },
  {
   "cell_type": "code",
   "execution_count": null,
   "id": "eafb7f36",
   "metadata": {},
   "outputs": [],
   "source": [
    "bar_ords_cust_sorted= bar_order_customer_profile.sort_values(ascending=False)"
   ]
  },
  {
   "cell_type": "code",
   "execution_count": null,
   "id": "6f4a8506",
   "metadata": {},
   "outputs": [],
   "source": [
    "# plotting the bar chart\n",
    "bar_ords_cust_sorted= bar_order_customer_profile.plot.bar(color='darkblue', edgecolor= 'black')\n",
    "# creating a title and legends\n",
    "plt.title('Sum of Orders per Customer Profile')\n",
    "plt.xlabel('Customer Profile')\n",
    "plt.ylabel('Orders')"
   ]
  },
  {
   "cell_type": "code",
   "execution_count": null,
   "id": "fd688171",
   "metadata": {},
   "outputs": [],
   "source": [
    "bar_ords_cust_sorted.figure.savefig(os.path.join(path, '04_Analysis','Visualisations','bar_order_customer_profile.png'),bbox_inches= 'tight')"
   ]
  },
  {
   "cell_type": "markdown",
   "id": "d144eefe",
   "metadata": {},
   "source": [
    "# 13. Bar chart to show sum of orders per department"
   ]
  },
  {
   "cell_type": "code",
   "execution_count": null,
   "id": "c17bf30d",
   "metadata": {},
   "outputs": [],
   "source": [
    "# determining the sum of orders per department_id\n",
    "orders_sum_depart = frequent_customers.groupby('department_id')['order_number'].sum()"
   ]
  },
  {
   "cell_type": "code",
   "execution_count": null,
   "id": "7dfef0d2",
   "metadata": {},
   "outputs": [],
   "source": [
    "# sorting the results in order of magnitude\n",
    "orders_sum_depart= orders_sum_depart.sort_values(ascending=False)"
   ]
  },
  {
   "cell_type": "code",
   "execution_count": null,
   "id": "ab722ba2",
   "metadata": {},
   "outputs": [],
   "source": [
    "# generating and naming visualisation\n",
    "bar_orders_department = orders_sum_depart.plot.bar(color= 'red', edgecolor='black')\n",
    "# creating a title and legends\n",
    "plt.title('Sum of Orders per Department')\n",
    "plt.xlabel('Department ID')\n",
    "plt.ylabel('Orders')"
   ]
  },
  {
   "cell_type": "code",
   "execution_count": null,
   "id": "47663d47",
   "metadata": {},
   "outputs": [],
   "source": [
    "# export visualisation\n",
    "bar_orders_department.figure.savefig(os.path.join(path,'04_Analysis','Visualisations','bar_orders_department.png'))"
   ]
  },
  {
   "cell_type": "markdown",
   "id": "6999c4fd",
   "metadata": {},
   "source": [
    "# 14. Export Final Dataframe"
   ]
  },
  {
   "cell_type": "code",
   "execution_count": null,
   "id": "d8141b2b",
   "metadata": {},
   "outputs": [],
   "source": [
    "# export datframe with customers that order more than 5 times\n",
    "frequent_customers.to_pickle(os.path.join(path,'02_Data','Prepared Data','order_products_all.pkl'))"
   ]
  },
  {
   "cell_type": "code",
   "execution_count": null,
   "id": "41015a9f",
   "metadata": {},
   "outputs": [],
   "source": []
  }
 ],
 "metadata": {
  "kernelspec": {
   "display_name": "Python 3 (ipykernel)",
   "language": "python",
   "name": "python3"
  },
  "language_info": {
   "codemirror_mode": {
    "name": "ipython",
    "version": 3
   },
   "file_extension": ".py",
   "mimetype": "text/x-python",
   "name": "python",
   "nbconvert_exporter": "python",
   "pygments_lexer": "ipython3",
   "version": "3.11.5"
  }
 },
 "nbformat": 4,
 "nbformat_minor": 5
}
