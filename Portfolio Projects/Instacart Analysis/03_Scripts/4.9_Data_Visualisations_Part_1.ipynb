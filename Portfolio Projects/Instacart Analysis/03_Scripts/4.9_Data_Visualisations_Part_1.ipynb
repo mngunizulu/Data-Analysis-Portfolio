{
 "cells": [
  {
   "cell_type": "markdown",
   "id": "3d00db1c",
   "metadata": {},
   "source": [
    "# 4.9. Data Wrangling and  Merging Customer dataframe"
   ]
  },
  {
   "cell_type": "markdown",
   "id": "ea94520c",
   "metadata": {},
   "source": [
    "Contents\n",
    "1.  Import Libraries\n",
    "2.  Import Dataframes\n",
    "3.  Check Data Consistencies\n",
    "4.  Data Wrangling\n",
    "5.  Joining Dataframes\n",
    "6.  Exporting Dataframe\n"
   ]
  },
  {
   "cell_type": "markdown",
   "id": "fb42399f",
   "metadata": {},
   "source": [
    "# 01. Import Libraries"
   ]
  },
  {
   "cell_type": "code",
   "execution_count": null,
   "id": "fb3b70e4",
   "metadata": {},
   "outputs": [],
   "source": [
    "import pandas as pd\n",
    "import numpy as np\n",
    "import os\n",
    "import matplotlib.pyplot as plt\n",
    "import seaborn as sns\n",
    "import scipy"
   ]
  },
  {
   "cell_type": "markdown",
   "id": "65da5960",
   "metadata": {},
   "source": [
    "# 02. Import Dataframes"
   ]
  },
  {
   "cell_type": "code",
   "execution_count": null,
   "id": "e355b75f",
   "metadata": {},
   "outputs": [],
   "source": [
    "# create path to folder\n",
    "path = r'C:\\Users\\mngun\\Documents\\11_2023_InstaCart_asket_Analysis'"
   ]
  },
  {
   "cell_type": "code",
   "execution_count": null,
   "id": "92f58228",
   "metadata": {
    "scrolled": true
   },
   "outputs": [],
   "source": [
    "# import customer dataframe\n",
    "customer = pd.read_csv(os.path.join(path, '02_Data','Original Data','customers.csv'))"
   ]
  },
  {
   "cell_type": "markdown",
   "id": "787fc260",
   "metadata": {},
   "source": [
    "# 03. Check Data Consistencies"
   ]
  },
  {
   "cell_type": "code",
   "execution_count": null,
   "id": "477de425",
   "metadata": {},
   "outputs": [],
   "source": [
    "# reviewing dataframe shape\n",
    "customer.shape"
   ]
  },
  {
   "cell_type": "code",
   "execution_count": null,
   "id": "28653888",
   "metadata": {},
   "outputs": [],
   "source": [
    "# reviewing dataframe columns\n",
    "customer.head()"
   ]
  },
  {
   "cell_type": "code",
   "execution_count": null,
   "id": "fefbf4ea",
   "metadata": {},
   "outputs": [],
   "source": [
    "# checking descriptive stats\n",
    "customer.describe()"
   ]
  },
  {
   "cell_type": "code",
   "execution_count": null,
   "id": "865759d4",
   "metadata": {},
   "outputs": [],
   "source": [
    "# checking missing values in each column\n",
    "customer.isna().sum()"
   ]
  },
  {
   "cell_type": "markdown",
   "id": "2a1641a0",
   "metadata": {},
   "source": [
    "- I'm going to drop the first_name and Surname columns. The names will not be useful for the analysis and has too many missing values.\n",
    "- Also, for data protection purposes, their identies should be protected."
   ]
  },
  {
   "cell_type": "code",
   "execution_count": null,
   "id": "cfdd1353",
   "metadata": {
    "scrolled": false
   },
   "outputs": [],
   "source": [
    "# checking the frequency of values by state\n",
    "customer['STATE'].value_counts()"
   ]
  },
  {
   "cell_type": "code",
   "execution_count": null,
   "id": "fdbeb6fd",
   "metadata": {},
   "outputs": [],
   "source": [
    "# confirming number of states\n",
    "customer['STATE'].nunique()"
   ]
  },
  {
   "cell_type": "code",
   "execution_count": null,
   "id": "923d4cc3",
   "metadata": {},
   "outputs": [],
   "source": [
    "customer['fam_status'].value_counts()"
   ]
  },
  {
   "cell_type": "markdown",
   "id": "325c9c69",
   "metadata": {},
   "source": [
    "# 04. Data Wrangling"
   ]
  },
  {
   "cell_type": "code",
   "execution_count": null,
   "id": "e625efc3",
   "metadata": {},
   "outputs": [],
   "source": [
    "# create new dataframe with the first and last names dropped\n",
    "customer = customer.drop(columns = ['First Name','Surnam'])"
   ]
  },
  {
   "cell_type": "code",
   "execution_count": null,
   "id": "769cb0eb",
   "metadata": {},
   "outputs": [],
   "source": [
    "customer.shape"
   ]
  },
  {
   "cell_type": "code",
   "execution_count": null,
   "id": "80aa51a0",
   "metadata": {},
   "outputs": [],
   "source": [
    "customer.head()"
   ]
  },
  {
   "cell_type": "code",
   "execution_count": null,
   "id": "2816c79d",
   "metadata": {},
   "outputs": [],
   "source": [
    "# create a mapping for the new column names\n",
    "column_mapping = {'Gender': 'gender','STATE': 'state', 'Age':'age',}"
   ]
  },
  {
   "cell_type": "code",
   "execution_count": null,
   "id": "a6b7fd81",
   "metadata": {},
   "outputs": [],
   "source": [
    "# replacing several column names\n",
    "customer.rename(columns = column_mapping, inplace = True)"
   ]
  },
  {
   "cell_type": "code",
   "execution_count": null,
   "id": "fb766540",
   "metadata": {},
   "outputs": [],
   "source": [
    "customer.head()"
   ]
  },
  {
   "cell_type": "code",
   "execution_count": null,
   "id": "3ae8bad1",
   "metadata": {},
   "outputs": [],
   "source": [
    "# confirming data type of user_id column - for merge\n",
    "customer['user_id'].dtype"
   ]
  },
  {
   "cell_type": "code",
   "execution_count": null,
   "id": "80841065",
   "metadata": {},
   "outputs": [],
   "source": [
    "# checking for mixed type data in columns \n",
    "for col in customer.columns.tolist():\n",
    "    if len(customer[col].apply(type).unique()) > 1:\n",
    "        print(col + ' has mixed datatype')\n",
    "    else:\n",
    "        print(col + ' no mixed datatype')"
   ]
  },
  {
   "cell_type": "code",
   "execution_count": null,
   "id": "4d0719e6",
   "metadata": {},
   "outputs": [],
   "source": [
    "# creating a dataframe of duplicate rows\n",
    "df_dups = customer[customer.duplicated()]"
   ]
  },
  {
   "cell_type": "code",
   "execution_count": null,
   "id": "66fe589d",
   "metadata": {},
   "outputs": [],
   "source": [
    "# seeing the duplicate values - none present\n",
    "df_dups"
   ]
  },
  {
   "cell_type": "markdown",
   "id": "04be7ac9",
   "metadata": {},
   "source": [
    "# 05 Joining Dataframes"
   ]
  },
  {
   "cell_type": "code",
   "execution_count": null,
   "id": "96446447",
   "metadata": {},
   "outputs": [],
   "source": [
    "# import previous Instacart dataframe\n",
    "ords_prods_merge_flags = pd.read_pickle(os.path.join(path, '02_Data', 'Prepared Data', 'ords_prods_merge_flags.pkl'))"
   ]
  },
  {
   "cell_type": "code",
   "execution_count": null,
   "id": "11885f67",
   "metadata": {},
   "outputs": [],
   "source": [
    "# reviewing dataframe \n",
    "ords_prods_merge_flags.head()"
   ]
  },
  {
   "cell_type": "code",
   "execution_count": null,
   "id": "87ae1c0f",
   "metadata": {},
   "outputs": [],
   "source": [
    "# reviewing dataframe shape\n",
    "ords_prods_merge_flags.shape"
   ]
  },
  {
   "cell_type": "code",
   "execution_count": null,
   "id": "442f94b6",
   "metadata": {
    "scrolled": false
   },
   "outputs": [],
   "source": [
    "# confirming number of suitable columns for dropping and merger\n",
    "ords_prods_merge_flags.columns.to_list()"
   ]
  },
  {
   "cell_type": "code",
   "execution_count": null,
   "id": "61e34c21",
   "metadata": {},
   "outputs": [],
   "source": [
    "# drop irrelevnt columns for less memory-intensive merger\n",
    "ords_prods_new = ords_prods_merge_flags.drop(columns = ['price_range_loc','_merge','busiest_day','max_order'])"
   ]
  },
  {
   "cell_type": "code",
   "execution_count": null,
   "id": "3108020a",
   "metadata": {},
   "outputs": [],
   "source": [
    "# confirming dropped columns in new dataframe\n",
    "ords_prods_new.shape"
   ]
  },
  {
   "cell_type": "code",
   "execution_count": null,
   "id": "7863a332",
   "metadata": {},
   "outputs": [],
   "source": [
    "# confirm data type of user_id in 'ord_prods_new' dataframe\n",
    "ords_prods_new['user_id'].dtype"
   ]
  },
  {
   "cell_type": "code",
   "execution_count": null,
   "id": "57c268a3",
   "metadata": {
    "scrolled": false
   },
   "outputs": [],
   "source": [
    "# merge df_customer and ords_prods_new dataframes\n",
    "ords_prods_cust = ords_prods_new.merge(customer, on = 'user_id', how = 'left', indicator = True)"
   ]
  },
  {
   "cell_type": "code",
   "execution_count": null,
   "id": "14d436bc",
   "metadata": {},
   "outputs": [],
   "source": [
    "# reviewing dataframe\n",
    "ords_prods_cust.head()"
   ]
  },
  {
   "cell_type": "code",
   "execution_count": null,
   "id": "efc9ca9d",
   "metadata": {},
   "outputs": [],
   "source": [
    "# confirming the success of merger\n",
    "ords_prods_cust['_merge'].value_counts()"
   ]
  },
  {
   "cell_type": "markdown",
   "id": "be362cf2",
   "metadata": {},
   "source": [
    "# 06. Exporting Dataframe"
   ]
  },
  {
   "cell_type": "code",
   "execution_count": null,
   "id": "47c31a9c",
   "metadata": {},
   "outputs": [],
   "source": [
    "# export merged dataframe to pickle file\n",
    "ords_prods_cust.to_pickle(os.path.join(path, '02_Data','Prepared Data','ords_prods_cust.pkl'))"
   ]
  },
  {
   "cell_type": "code",
   "execution_count": null,
   "id": "f100bfeb",
   "metadata": {},
   "outputs": [],
   "source": []
  }
 ],
 "metadata": {
  "kernelspec": {
   "display_name": "Python 3 (ipykernel)",
   "language": "python",
   "name": "python3"
  },
  "language_info": {
   "codemirror_mode": {
    "name": "ipython",
    "version": 3
   },
   "file_extension": ".py",
   "mimetype": "text/x-python",
   "name": "python",
   "nbconvert_exporter": "python",
   "pygments_lexer": "ipython3",
   "version": "3.11.5"
  }
 },
 "nbformat": 4,
 "nbformat_minor": 5
}
